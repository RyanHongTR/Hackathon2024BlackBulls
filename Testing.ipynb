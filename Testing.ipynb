{
  "nbformat": 4,
  "nbformat_minor": 0,
  "metadata": {
    "colab": {
      "provenance": []
    },
    "kernelspec": {
      "name": "python3",
      "display_name": "Python 3"
    },
    "language_info": {
      "name": "python"
    }
  },
  "cells": [
    {
      "cell_type": "code",
      "execution_count": null,
      "metadata": {
        "colab": {
          "base_uri": "https://localhost:8080/"
        },
        "id": "5vG837cIsWdN",
        "outputId": "fb520de0-f456-4745-a155-7488b82b1371"
      },
      "outputs": [
        {
          "output_type": "stream",
          "name": "stdout",
          "text": [
            "Mounted at /content/drive\n"
          ]
        }
      ],
      "source": [
        "# Connect the google drive\n",
        "from google.colab import drive\n",
        "drive.mount('/content/drive', force_remount=True)"
      ]
    },
    {
      "cell_type": "code",
      "source": [
        "cd /content/drive/MyDrive/GlobalAiHackathon2024"
      ],
      "metadata": {
        "id": "0naZzA3ZX9-a",
        "colab": {
          "base_uri": "https://localhost:8080/"
        },
        "outputId": "15d324d6-d519-4b9c-eba5-7c7a2de693b3"
      },
      "execution_count": null,
      "outputs": [
        {
          "output_type": "stream",
          "name": "stdout",
          "text": [
            "/content/drive/MyDrive/GlobalAiHackathon2024\n"
          ]
        }
      ]
    },
    {
      "cell_type": "code",
      "source": [
        "ls"
      ],
      "metadata": {
        "colab": {
          "base_uri": "https://localhost:8080/"
        },
        "id": "IYI63vpoYncz",
        "outputId": "aa8efa5a-dc23-42f9-f0c8-bffc3a391ae4"
      },
      "execution_count": null,
      "outputs": [
        {
          "output_type": "stream",
          "name": "stdout",
          "text": [
            "test.csv  train.csv\n"
          ]
        }
      ]
    },
    {
      "cell_type": "code",
      "source": [
        "import numpy as np\n",
        "import pandas as pd\n",
        "import seaborn as sns\n",
        "import plotly.express as px\n",
        "from matplotlib import pyplot as plt\n",
        "from sklearn.model_selection import cross_val_score\n",
        "from sklearn.metrics import confusion_matrix\n",
        "from sklearn import metrics\n",
        "from collections import Counter"
      ],
      "metadata": {
        "id": "X1iousDttBRz"
      },
      "execution_count": null,
      "outputs": []
    },
    {
      "cell_type": "code",
      "source": [
        "raw_df = pd.read_csv('train.csv', index_col=0)\n",
        "raw_df.head()"
      ],
      "metadata": {
        "colab": {
          "base_uri": "https://localhost:8080/",
          "height": 504
        },
        "id": "AQDDC4QlYdrY",
        "outputId": "964854f9-aa63-428e-c888-2e65000730fc"
      },
      "execution_count": null,
      "outputs": [
        {
          "output_type": "execute_result",
          "data": {
            "text/plain": [
              "   Unnamed: 0                           TAXPAYER_ID  \\\n",
              "0           0  58d38972-8bca-4f8a-b09d-dd3840c72f87   \n",
              "1           1  b6ee41c8-7ec4-4a82-9c59-93623456003f   \n",
              "2           2  c6e4e68b-7b43-40df-828e-8ae0e8a5e83b   \n",
              "3           3  5d6a3d43-5218-4e9c-8d30-7a94351fc5e7   \n",
              "4           4  92f738fe-2c04-416a-9d08-24c1d51a23c9   \n",
              "\n",
              "                                FIRM_ID  CLIENT_ID  FILED_DATETIME  TAX_YEAR  \\\n",
              "0  e1d5084f-b26f-49ee-ae44-20f49ba14323       YMCV  1/20/2021 0:59      2020   \n",
              "1  c7985081-f56d-48bc-8c41-f6213c6308ea       NEZP  1/20/2021 6:40      2020   \n",
              "2  5793ebb5-c84d-4dfe-b32e-4cf2fc818766  JMQZVSCIY  1/20/2021 7:15      2020   \n",
              "3  af8ef686-0b89-4c23-b768-97b1895753d4      CAZVH  1/20/2021 8:31      2020   \n",
              "4  e7ce1baf-4ca7-4ee1-9daa-e1d2506be956       UTYZ  1/20/2021 9:46      2020   \n",
              "\n",
              "   REFUND                       ROUTING_NUMBER1  \\\n",
              "0    4206  cf6f5e9b-ef6a-4e5d-a018-76a1ed04e66b   \n",
              "1    2276  6e5e6fb4-5ecc-4e3b-b94b-a9de2315d754   \n",
              "2    4373  736bc35b-25b5-429b-bcd2-14f9d807451b   \n",
              "3    1339  752b16b9-b962-4d06-8dc1-6ac20d55c959   \n",
              "4    3388  9fb90110-577c-444c-889f-cafed1da6a0b   \n",
              "\n",
              "                       DEPOSIT_ACCOUNT1 ROUTING_NUMBER2 DEPOSIT_ACCOUNT2  \\\n",
              "0  cb151ba0-40d3-44fa-9084-325180fc3dee             NaN              NaN   \n",
              "1  9b622e78-3331-43dc-8319-1037939c9b4c             NaN              NaN   \n",
              "2  5435d3fe-a0f8-474b-aedc-d8fa4cb1790a             NaN              NaN   \n",
              "3  feeb1b3c-c1b5-4354-b51a-3ef6215321d8             NaN              NaN   \n",
              "4  2f19f5c8-ae53-406e-a7cc-41b21641fb90             NaN              NaN   \n",
              "\n",
              "  ROUTING_NUMBER3 DEPOSIT_ACCOUNT3                                  PTIN  \\\n",
              "0             NaN              NaN  96bc45c7-fcd1-476f-8f6c-6b3bb916b5cd   \n",
              "1             NaN              NaN  f7744112-cb96-474c-b4f2-b2f92484f00b   \n",
              "2             NaN              NaN  f588237a-02e0-4e92-b4cc-5c86e7ea37b3   \n",
              "3             NaN              NaN  3508d9be-fb82-4a27-b613-446db4ea8744   \n",
              "4             NaN              NaN  426e5759-33cb-4e38-9cd7-f2993232f1bd   \n",
              "\n",
              "                             IP_ADDRESS  ZIPCODE  STATE_PLACEHOLDER  \\\n",
              "0  f1786c4e-a4e8-44c3-a61a-e719faeda92b    33863                 47   \n",
              "1  f54ff4d6-2e09-4810-8746-193930327a15    23929                 30   \n",
              "2  c0a4a946-351c-4504-b289-7b8741c8b106    56438                 17   \n",
              "3  c21d1fe5-8d29-4ea7-a011-1b5c669ad647    37826                  6   \n",
              "4  16d0f8ca-74bf-4fdf-8b12-cede25538a6d    23380                 50   \n",
              "\n",
              "   STATE_ATTACHED  IS_SUSPICIOUS  \n",
              "0            True          False  \n",
              "1            True          False  \n",
              "2            True          False  \n",
              "3           False          False  \n",
              "4            True          False  "
            ],
            "text/html": [
              "\n",
              "  <div id=\"df-ac440271-604a-4658-ba3d-03a162b1ea0b\" class=\"colab-df-container\">\n",
              "    <div>\n",
              "<style scoped>\n",
              "    .dataframe tbody tr th:only-of-type {\n",
              "        vertical-align: middle;\n",
              "    }\n",
              "\n",
              "    .dataframe tbody tr th {\n",
              "        vertical-align: top;\n",
              "    }\n",
              "\n",
              "    .dataframe thead th {\n",
              "        text-align: right;\n",
              "    }\n",
              "</style>\n",
              "<table border=\"1\" class=\"dataframe\">\n",
              "  <thead>\n",
              "    <tr style=\"text-align: right;\">\n",
              "      <th></th>\n",
              "      <th>Unnamed: 0</th>\n",
              "      <th>TAXPAYER_ID</th>\n",
              "      <th>FIRM_ID</th>\n",
              "      <th>CLIENT_ID</th>\n",
              "      <th>FILED_DATETIME</th>\n",
              "      <th>TAX_YEAR</th>\n",
              "      <th>REFUND</th>\n",
              "      <th>ROUTING_NUMBER1</th>\n",
              "      <th>DEPOSIT_ACCOUNT1</th>\n",
              "      <th>ROUTING_NUMBER2</th>\n",
              "      <th>DEPOSIT_ACCOUNT2</th>\n",
              "      <th>ROUTING_NUMBER3</th>\n",
              "      <th>DEPOSIT_ACCOUNT3</th>\n",
              "      <th>PTIN</th>\n",
              "      <th>IP_ADDRESS</th>\n",
              "      <th>ZIPCODE</th>\n",
              "      <th>STATE_PLACEHOLDER</th>\n",
              "      <th>STATE_ATTACHED</th>\n",
              "      <th>IS_SUSPICIOUS</th>\n",
              "    </tr>\n",
              "  </thead>\n",
              "  <tbody>\n",
              "    <tr>\n",
              "      <th>0</th>\n",
              "      <td>0</td>\n",
              "      <td>58d38972-8bca-4f8a-b09d-dd3840c72f87</td>\n",
              "      <td>e1d5084f-b26f-49ee-ae44-20f49ba14323</td>\n",
              "      <td>YMCV</td>\n",
              "      <td>1/20/2021 0:59</td>\n",
              "      <td>2020</td>\n",
              "      <td>4206</td>\n",
              "      <td>cf6f5e9b-ef6a-4e5d-a018-76a1ed04e66b</td>\n",
              "      <td>cb151ba0-40d3-44fa-9084-325180fc3dee</td>\n",
              "      <td>NaN</td>\n",
              "      <td>NaN</td>\n",
              "      <td>NaN</td>\n",
              "      <td>NaN</td>\n",
              "      <td>96bc45c7-fcd1-476f-8f6c-6b3bb916b5cd</td>\n",
              "      <td>f1786c4e-a4e8-44c3-a61a-e719faeda92b</td>\n",
              "      <td>33863</td>\n",
              "      <td>47</td>\n",
              "      <td>True</td>\n",
              "      <td>False</td>\n",
              "    </tr>\n",
              "    <tr>\n",
              "      <th>1</th>\n",
              "      <td>1</td>\n",
              "      <td>b6ee41c8-7ec4-4a82-9c59-93623456003f</td>\n",
              "      <td>c7985081-f56d-48bc-8c41-f6213c6308ea</td>\n",
              "      <td>NEZP</td>\n",
              "      <td>1/20/2021 6:40</td>\n",
              "      <td>2020</td>\n",
              "      <td>2276</td>\n",
              "      <td>6e5e6fb4-5ecc-4e3b-b94b-a9de2315d754</td>\n",
              "      <td>9b622e78-3331-43dc-8319-1037939c9b4c</td>\n",
              "      <td>NaN</td>\n",
              "      <td>NaN</td>\n",
              "      <td>NaN</td>\n",
              "      <td>NaN</td>\n",
              "      <td>f7744112-cb96-474c-b4f2-b2f92484f00b</td>\n",
              "      <td>f54ff4d6-2e09-4810-8746-193930327a15</td>\n",
              "      <td>23929</td>\n",
              "      <td>30</td>\n",
              "      <td>True</td>\n",
              "      <td>False</td>\n",
              "    </tr>\n",
              "    <tr>\n",
              "      <th>2</th>\n",
              "      <td>2</td>\n",
              "      <td>c6e4e68b-7b43-40df-828e-8ae0e8a5e83b</td>\n",
              "      <td>5793ebb5-c84d-4dfe-b32e-4cf2fc818766</td>\n",
              "      <td>JMQZVSCIY</td>\n",
              "      <td>1/20/2021 7:15</td>\n",
              "      <td>2020</td>\n",
              "      <td>4373</td>\n",
              "      <td>736bc35b-25b5-429b-bcd2-14f9d807451b</td>\n",
              "      <td>5435d3fe-a0f8-474b-aedc-d8fa4cb1790a</td>\n",
              "      <td>NaN</td>\n",
              "      <td>NaN</td>\n",
              "      <td>NaN</td>\n",
              "      <td>NaN</td>\n",
              "      <td>f588237a-02e0-4e92-b4cc-5c86e7ea37b3</td>\n",
              "      <td>c0a4a946-351c-4504-b289-7b8741c8b106</td>\n",
              "      <td>56438</td>\n",
              "      <td>17</td>\n",
              "      <td>True</td>\n",
              "      <td>False</td>\n",
              "    </tr>\n",
              "    <tr>\n",
              "      <th>3</th>\n",
              "      <td>3</td>\n",
              "      <td>5d6a3d43-5218-4e9c-8d30-7a94351fc5e7</td>\n",
              "      <td>af8ef686-0b89-4c23-b768-97b1895753d4</td>\n",
              "      <td>CAZVH</td>\n",
              "      <td>1/20/2021 8:31</td>\n",
              "      <td>2020</td>\n",
              "      <td>1339</td>\n",
              "      <td>752b16b9-b962-4d06-8dc1-6ac20d55c959</td>\n",
              "      <td>feeb1b3c-c1b5-4354-b51a-3ef6215321d8</td>\n",
              "      <td>NaN</td>\n",
              "      <td>NaN</td>\n",
              "      <td>NaN</td>\n",
              "      <td>NaN</td>\n",
              "      <td>3508d9be-fb82-4a27-b613-446db4ea8744</td>\n",
              "      <td>c21d1fe5-8d29-4ea7-a011-1b5c669ad647</td>\n",
              "      <td>37826</td>\n",
              "      <td>6</td>\n",
              "      <td>False</td>\n",
              "      <td>False</td>\n",
              "    </tr>\n",
              "    <tr>\n",
              "      <th>4</th>\n",
              "      <td>4</td>\n",
              "      <td>92f738fe-2c04-416a-9d08-24c1d51a23c9</td>\n",
              "      <td>e7ce1baf-4ca7-4ee1-9daa-e1d2506be956</td>\n",
              "      <td>UTYZ</td>\n",
              "      <td>1/20/2021 9:46</td>\n",
              "      <td>2020</td>\n",
              "      <td>3388</td>\n",
              "      <td>9fb90110-577c-444c-889f-cafed1da6a0b</td>\n",
              "      <td>2f19f5c8-ae53-406e-a7cc-41b21641fb90</td>\n",
              "      <td>NaN</td>\n",
              "      <td>NaN</td>\n",
              "      <td>NaN</td>\n",
              "      <td>NaN</td>\n",
              "      <td>426e5759-33cb-4e38-9cd7-f2993232f1bd</td>\n",
              "      <td>16d0f8ca-74bf-4fdf-8b12-cede25538a6d</td>\n",
              "      <td>23380</td>\n",
              "      <td>50</td>\n",
              "      <td>True</td>\n",
              "      <td>False</td>\n",
              "    </tr>\n",
              "  </tbody>\n",
              "</table>\n",
              "</div>\n",
              "    <div class=\"colab-df-buttons\">\n",
              "\n",
              "  <div class=\"colab-df-container\">\n",
              "    <button class=\"colab-df-convert\" onclick=\"convertToInteractive('df-ac440271-604a-4658-ba3d-03a162b1ea0b')\"\n",
              "            title=\"Convert this dataframe to an interactive table.\"\n",
              "            style=\"display:none;\">\n",
              "\n",
              "  <svg xmlns=\"http://www.w3.org/2000/svg\" height=\"24px\" viewBox=\"0 -960 960 960\">\n",
              "    <path d=\"M120-120v-720h720v720H120Zm60-500h600v-160H180v160Zm220 220h160v-160H400v160Zm0 220h160v-160H400v160ZM180-400h160v-160H180v160Zm440 0h160v-160H620v160ZM180-180h160v-160H180v160Zm440 0h160v-160H620v160Z\"/>\n",
              "  </svg>\n",
              "    </button>\n",
              "\n",
              "  <style>\n",
              "    .colab-df-container {\n",
              "      display:flex;\n",
              "      gap: 12px;\n",
              "    }\n",
              "\n",
              "    .colab-df-convert {\n",
              "      background-color: #E8F0FE;\n",
              "      border: none;\n",
              "      border-radius: 50%;\n",
              "      cursor: pointer;\n",
              "      display: none;\n",
              "      fill: #1967D2;\n",
              "      height: 32px;\n",
              "      padding: 0 0 0 0;\n",
              "      width: 32px;\n",
              "    }\n",
              "\n",
              "    .colab-df-convert:hover {\n",
              "      background-color: #E2EBFA;\n",
              "      box-shadow: 0px 1px 2px rgba(60, 64, 67, 0.3), 0px 1px 3px 1px rgba(60, 64, 67, 0.15);\n",
              "      fill: #174EA6;\n",
              "    }\n",
              "\n",
              "    .colab-df-buttons div {\n",
              "      margin-bottom: 4px;\n",
              "    }\n",
              "\n",
              "    [theme=dark] .colab-df-convert {\n",
              "      background-color: #3B4455;\n",
              "      fill: #D2E3FC;\n",
              "    }\n",
              "\n",
              "    [theme=dark] .colab-df-convert:hover {\n",
              "      background-color: #434B5C;\n",
              "      box-shadow: 0px 1px 3px 1px rgba(0, 0, 0, 0.15);\n",
              "      filter: drop-shadow(0px 1px 2px rgba(0, 0, 0, 0.3));\n",
              "      fill: #FFFFFF;\n",
              "    }\n",
              "  </style>\n",
              "\n",
              "    <script>\n",
              "      const buttonEl =\n",
              "        document.querySelector('#df-ac440271-604a-4658-ba3d-03a162b1ea0b button.colab-df-convert');\n",
              "      buttonEl.style.display =\n",
              "        google.colab.kernel.accessAllowed ? 'block' : 'none';\n",
              "\n",
              "      async function convertToInteractive(key) {\n",
              "        const element = document.querySelector('#df-ac440271-604a-4658-ba3d-03a162b1ea0b');\n",
              "        const dataTable =\n",
              "          await google.colab.kernel.invokeFunction('convertToInteractive',\n",
              "                                                    [key], {});\n",
              "        if (!dataTable) return;\n",
              "\n",
              "        const docLinkHtml = 'Like what you see? Visit the ' +\n",
              "          '<a target=\"_blank\" href=https://colab.research.google.com/notebooks/data_table.ipynb>data table notebook</a>'\n",
              "          + ' to learn more about interactive tables.';\n",
              "        element.innerHTML = '';\n",
              "        dataTable['output_type'] = 'display_data';\n",
              "        await google.colab.output.renderOutput(dataTable, element);\n",
              "        const docLink = document.createElement('div');\n",
              "        docLink.innerHTML = docLinkHtml;\n",
              "        element.appendChild(docLink);\n",
              "      }\n",
              "    </script>\n",
              "  </div>\n",
              "\n",
              "\n",
              "<div id=\"df-7173bb94-717f-47d4-b879-88a37d0c3534\">\n",
              "  <button class=\"colab-df-quickchart\" onclick=\"quickchart('df-7173bb94-717f-47d4-b879-88a37d0c3534')\"\n",
              "            title=\"Suggest charts\"\n",
              "            style=\"display:none;\">\n",
              "\n",
              "<svg xmlns=\"http://www.w3.org/2000/svg\" height=\"24px\"viewBox=\"0 0 24 24\"\n",
              "     width=\"24px\">\n",
              "    <g>\n",
              "        <path d=\"M19 3H5c-1.1 0-2 .9-2 2v14c0 1.1.9 2 2 2h14c1.1 0 2-.9 2-2V5c0-1.1-.9-2-2-2zM9 17H7v-7h2v7zm4 0h-2V7h2v10zm4 0h-2v-4h2v4z\"/>\n",
              "    </g>\n",
              "</svg>\n",
              "  </button>\n",
              "\n",
              "<style>\n",
              "  .colab-df-quickchart {\n",
              "      --bg-color: #E8F0FE;\n",
              "      --fill-color: #1967D2;\n",
              "      --hover-bg-color: #E2EBFA;\n",
              "      --hover-fill-color: #174EA6;\n",
              "      --disabled-fill-color: #AAA;\n",
              "      --disabled-bg-color: #DDD;\n",
              "  }\n",
              "\n",
              "  [theme=dark] .colab-df-quickchart {\n",
              "      --bg-color: #3B4455;\n",
              "      --fill-color: #D2E3FC;\n",
              "      --hover-bg-color: #434B5C;\n",
              "      --hover-fill-color: #FFFFFF;\n",
              "      --disabled-bg-color: #3B4455;\n",
              "      --disabled-fill-color: #666;\n",
              "  }\n",
              "\n",
              "  .colab-df-quickchart {\n",
              "    background-color: var(--bg-color);\n",
              "    border: none;\n",
              "    border-radius: 50%;\n",
              "    cursor: pointer;\n",
              "    display: none;\n",
              "    fill: var(--fill-color);\n",
              "    height: 32px;\n",
              "    padding: 0;\n",
              "    width: 32px;\n",
              "  }\n",
              "\n",
              "  .colab-df-quickchart:hover {\n",
              "    background-color: var(--hover-bg-color);\n",
              "    box-shadow: 0 1px 2px rgba(60, 64, 67, 0.3), 0 1px 3px 1px rgba(60, 64, 67, 0.15);\n",
              "    fill: var(--button-hover-fill-color);\n",
              "  }\n",
              "\n",
              "  .colab-df-quickchart-complete:disabled,\n",
              "  .colab-df-quickchart-complete:disabled:hover {\n",
              "    background-color: var(--disabled-bg-color);\n",
              "    fill: var(--disabled-fill-color);\n",
              "    box-shadow: none;\n",
              "  }\n",
              "\n",
              "  .colab-df-spinner {\n",
              "    border: 2px solid var(--fill-color);\n",
              "    border-color: transparent;\n",
              "    border-bottom-color: var(--fill-color);\n",
              "    animation:\n",
              "      spin 1s steps(1) infinite;\n",
              "  }\n",
              "\n",
              "  @keyframes spin {\n",
              "    0% {\n",
              "      border-color: transparent;\n",
              "      border-bottom-color: var(--fill-color);\n",
              "      border-left-color: var(--fill-color);\n",
              "    }\n",
              "    20% {\n",
              "      border-color: transparent;\n",
              "      border-left-color: var(--fill-color);\n",
              "      border-top-color: var(--fill-color);\n",
              "    }\n",
              "    30% {\n",
              "      border-color: transparent;\n",
              "      border-left-color: var(--fill-color);\n",
              "      border-top-color: var(--fill-color);\n",
              "      border-right-color: var(--fill-color);\n",
              "    }\n",
              "    40% {\n",
              "      border-color: transparent;\n",
              "      border-right-color: var(--fill-color);\n",
              "      border-top-color: var(--fill-color);\n",
              "    }\n",
              "    60% {\n",
              "      border-color: transparent;\n",
              "      border-right-color: var(--fill-color);\n",
              "    }\n",
              "    80% {\n",
              "      border-color: transparent;\n",
              "      border-right-color: var(--fill-color);\n",
              "      border-bottom-color: var(--fill-color);\n",
              "    }\n",
              "    90% {\n",
              "      border-color: transparent;\n",
              "      border-bottom-color: var(--fill-color);\n",
              "    }\n",
              "  }\n",
              "</style>\n",
              "\n",
              "  <script>\n",
              "    async function quickchart(key) {\n",
              "      const quickchartButtonEl =\n",
              "        document.querySelector('#' + key + ' button');\n",
              "      quickchartButtonEl.disabled = true;  // To prevent multiple clicks.\n",
              "      quickchartButtonEl.classList.add('colab-df-spinner');\n",
              "      try {\n",
              "        const charts = await google.colab.kernel.invokeFunction(\n",
              "            'suggestCharts', [key], {});\n",
              "      } catch (error) {\n",
              "        console.error('Error during call to suggestCharts:', error);\n",
              "      }\n",
              "      quickchartButtonEl.classList.remove('colab-df-spinner');\n",
              "      quickchartButtonEl.classList.add('colab-df-quickchart-complete');\n",
              "    }\n",
              "    (() => {\n",
              "      let quickchartButtonEl =\n",
              "        document.querySelector('#df-7173bb94-717f-47d4-b879-88a37d0c3534 button');\n",
              "      quickchartButtonEl.style.display =\n",
              "        google.colab.kernel.accessAllowed ? 'block' : 'none';\n",
              "    })();\n",
              "  </script>\n",
              "</div>\n",
              "\n",
              "    </div>\n",
              "  </div>\n"
            ],
            "application/vnd.google.colaboratory.intrinsic+json": {
              "type": "dataframe",
              "variable_name": "raw_df"
            }
          },
          "metadata": {},
          "execution_count": 23
        }
      ]
    },
    {
      "cell_type": "code",
      "source": [
        "# prompt: filter the dataframe so that it only extracts  IS_SUSPICIOUS = 1\n",
        "\n",
        "df_true = raw_df[raw_df['IS_SUSPICIOUS'] == False]\n",
        "df_true.head()"
      ],
      "metadata": {
        "colab": {
          "base_uri": "https://localhost:8080/",
          "height": 504
        },
        "id": "fI7xRTysblCq",
        "outputId": "9fc93b31-84ea-4b47-8fb1-ed1a44037988"
      },
      "execution_count": null,
      "outputs": [
        {
          "output_type": "execute_result",
          "data": {
            "text/plain": [
              "   Unnamed: 0                           TAXPAYER_ID  \\\n",
              "0           0  58d38972-8bca-4f8a-b09d-dd3840c72f87   \n",
              "1           1  b6ee41c8-7ec4-4a82-9c59-93623456003f   \n",
              "2           2  c6e4e68b-7b43-40df-828e-8ae0e8a5e83b   \n",
              "3           3  5d6a3d43-5218-4e9c-8d30-7a94351fc5e7   \n",
              "4           4  92f738fe-2c04-416a-9d08-24c1d51a23c9   \n",
              "\n",
              "                                FIRM_ID  CLIENT_ID  FILED_DATETIME  TAX_YEAR  \\\n",
              "0  e1d5084f-b26f-49ee-ae44-20f49ba14323       YMCV  1/20/2021 0:59      2020   \n",
              "1  c7985081-f56d-48bc-8c41-f6213c6308ea       NEZP  1/20/2021 6:40      2020   \n",
              "2  5793ebb5-c84d-4dfe-b32e-4cf2fc818766  JMQZVSCIY  1/20/2021 7:15      2020   \n",
              "3  af8ef686-0b89-4c23-b768-97b1895753d4      CAZVH  1/20/2021 8:31      2020   \n",
              "4  e7ce1baf-4ca7-4ee1-9daa-e1d2506be956       UTYZ  1/20/2021 9:46      2020   \n",
              "\n",
              "   REFUND                       ROUTING_NUMBER1  \\\n",
              "0    4206  cf6f5e9b-ef6a-4e5d-a018-76a1ed04e66b   \n",
              "1    2276  6e5e6fb4-5ecc-4e3b-b94b-a9de2315d754   \n",
              "2    4373  736bc35b-25b5-429b-bcd2-14f9d807451b   \n",
              "3    1339  752b16b9-b962-4d06-8dc1-6ac20d55c959   \n",
              "4    3388  9fb90110-577c-444c-889f-cafed1da6a0b   \n",
              "\n",
              "                       DEPOSIT_ACCOUNT1 ROUTING_NUMBER2 DEPOSIT_ACCOUNT2  \\\n",
              "0  cb151ba0-40d3-44fa-9084-325180fc3dee             NaN              NaN   \n",
              "1  9b622e78-3331-43dc-8319-1037939c9b4c             NaN              NaN   \n",
              "2  5435d3fe-a0f8-474b-aedc-d8fa4cb1790a             NaN              NaN   \n",
              "3  feeb1b3c-c1b5-4354-b51a-3ef6215321d8             NaN              NaN   \n",
              "4  2f19f5c8-ae53-406e-a7cc-41b21641fb90             NaN              NaN   \n",
              "\n",
              "  ROUTING_NUMBER3 DEPOSIT_ACCOUNT3                                  PTIN  \\\n",
              "0             NaN              NaN  96bc45c7-fcd1-476f-8f6c-6b3bb916b5cd   \n",
              "1             NaN              NaN  f7744112-cb96-474c-b4f2-b2f92484f00b   \n",
              "2             NaN              NaN  f588237a-02e0-4e92-b4cc-5c86e7ea37b3   \n",
              "3             NaN              NaN  3508d9be-fb82-4a27-b613-446db4ea8744   \n",
              "4             NaN              NaN  426e5759-33cb-4e38-9cd7-f2993232f1bd   \n",
              "\n",
              "                             IP_ADDRESS  ZIPCODE  STATE_PLACEHOLDER  \\\n",
              "0  f1786c4e-a4e8-44c3-a61a-e719faeda92b    33863                 47   \n",
              "1  f54ff4d6-2e09-4810-8746-193930327a15    23929                 30   \n",
              "2  c0a4a946-351c-4504-b289-7b8741c8b106    56438                 17   \n",
              "3  c21d1fe5-8d29-4ea7-a011-1b5c669ad647    37826                  6   \n",
              "4  16d0f8ca-74bf-4fdf-8b12-cede25538a6d    23380                 50   \n",
              "\n",
              "   STATE_ATTACHED  IS_SUSPICIOUS  \n",
              "0            True          False  \n",
              "1            True          False  \n",
              "2            True          False  \n",
              "3           False          False  \n",
              "4            True          False  "
            ],
            "text/html": [
              "\n",
              "  <div id=\"df-6324b654-510e-453f-8a81-80de7eeaa579\" class=\"colab-df-container\">\n",
              "    <div>\n",
              "<style scoped>\n",
              "    .dataframe tbody tr th:only-of-type {\n",
              "        vertical-align: middle;\n",
              "    }\n",
              "\n",
              "    .dataframe tbody tr th {\n",
              "        vertical-align: top;\n",
              "    }\n",
              "\n",
              "    .dataframe thead th {\n",
              "        text-align: right;\n",
              "    }\n",
              "</style>\n",
              "<table border=\"1\" class=\"dataframe\">\n",
              "  <thead>\n",
              "    <tr style=\"text-align: right;\">\n",
              "      <th></th>\n",
              "      <th>Unnamed: 0</th>\n",
              "      <th>TAXPAYER_ID</th>\n",
              "      <th>FIRM_ID</th>\n",
              "      <th>CLIENT_ID</th>\n",
              "      <th>FILED_DATETIME</th>\n",
              "      <th>TAX_YEAR</th>\n",
              "      <th>REFUND</th>\n",
              "      <th>ROUTING_NUMBER1</th>\n",
              "      <th>DEPOSIT_ACCOUNT1</th>\n",
              "      <th>ROUTING_NUMBER2</th>\n",
              "      <th>DEPOSIT_ACCOUNT2</th>\n",
              "      <th>ROUTING_NUMBER3</th>\n",
              "      <th>DEPOSIT_ACCOUNT3</th>\n",
              "      <th>PTIN</th>\n",
              "      <th>IP_ADDRESS</th>\n",
              "      <th>ZIPCODE</th>\n",
              "      <th>STATE_PLACEHOLDER</th>\n",
              "      <th>STATE_ATTACHED</th>\n",
              "      <th>IS_SUSPICIOUS</th>\n",
              "    </tr>\n",
              "  </thead>\n",
              "  <tbody>\n",
              "    <tr>\n",
              "      <th>0</th>\n",
              "      <td>0</td>\n",
              "      <td>58d38972-8bca-4f8a-b09d-dd3840c72f87</td>\n",
              "      <td>e1d5084f-b26f-49ee-ae44-20f49ba14323</td>\n",
              "      <td>YMCV</td>\n",
              "      <td>1/20/2021 0:59</td>\n",
              "      <td>2020</td>\n",
              "      <td>4206</td>\n",
              "      <td>cf6f5e9b-ef6a-4e5d-a018-76a1ed04e66b</td>\n",
              "      <td>cb151ba0-40d3-44fa-9084-325180fc3dee</td>\n",
              "      <td>NaN</td>\n",
              "      <td>NaN</td>\n",
              "      <td>NaN</td>\n",
              "      <td>NaN</td>\n",
              "      <td>96bc45c7-fcd1-476f-8f6c-6b3bb916b5cd</td>\n",
              "      <td>f1786c4e-a4e8-44c3-a61a-e719faeda92b</td>\n",
              "      <td>33863</td>\n",
              "      <td>47</td>\n",
              "      <td>True</td>\n",
              "      <td>False</td>\n",
              "    </tr>\n",
              "    <tr>\n",
              "      <th>1</th>\n",
              "      <td>1</td>\n",
              "      <td>b6ee41c8-7ec4-4a82-9c59-93623456003f</td>\n",
              "      <td>c7985081-f56d-48bc-8c41-f6213c6308ea</td>\n",
              "      <td>NEZP</td>\n",
              "      <td>1/20/2021 6:40</td>\n",
              "      <td>2020</td>\n",
              "      <td>2276</td>\n",
              "      <td>6e5e6fb4-5ecc-4e3b-b94b-a9de2315d754</td>\n",
              "      <td>9b622e78-3331-43dc-8319-1037939c9b4c</td>\n",
              "      <td>NaN</td>\n",
              "      <td>NaN</td>\n",
              "      <td>NaN</td>\n",
              "      <td>NaN</td>\n",
              "      <td>f7744112-cb96-474c-b4f2-b2f92484f00b</td>\n",
              "      <td>f54ff4d6-2e09-4810-8746-193930327a15</td>\n",
              "      <td>23929</td>\n",
              "      <td>30</td>\n",
              "      <td>True</td>\n",
              "      <td>False</td>\n",
              "    </tr>\n",
              "    <tr>\n",
              "      <th>2</th>\n",
              "      <td>2</td>\n",
              "      <td>c6e4e68b-7b43-40df-828e-8ae0e8a5e83b</td>\n",
              "      <td>5793ebb5-c84d-4dfe-b32e-4cf2fc818766</td>\n",
              "      <td>JMQZVSCIY</td>\n",
              "      <td>1/20/2021 7:15</td>\n",
              "      <td>2020</td>\n",
              "      <td>4373</td>\n",
              "      <td>736bc35b-25b5-429b-bcd2-14f9d807451b</td>\n",
              "      <td>5435d3fe-a0f8-474b-aedc-d8fa4cb1790a</td>\n",
              "      <td>NaN</td>\n",
              "      <td>NaN</td>\n",
              "      <td>NaN</td>\n",
              "      <td>NaN</td>\n",
              "      <td>f588237a-02e0-4e92-b4cc-5c86e7ea37b3</td>\n",
              "      <td>c0a4a946-351c-4504-b289-7b8741c8b106</td>\n",
              "      <td>56438</td>\n",
              "      <td>17</td>\n",
              "      <td>True</td>\n",
              "      <td>False</td>\n",
              "    </tr>\n",
              "    <tr>\n",
              "      <th>3</th>\n",
              "      <td>3</td>\n",
              "      <td>5d6a3d43-5218-4e9c-8d30-7a94351fc5e7</td>\n",
              "      <td>af8ef686-0b89-4c23-b768-97b1895753d4</td>\n",
              "      <td>CAZVH</td>\n",
              "      <td>1/20/2021 8:31</td>\n",
              "      <td>2020</td>\n",
              "      <td>1339</td>\n",
              "      <td>752b16b9-b962-4d06-8dc1-6ac20d55c959</td>\n",
              "      <td>feeb1b3c-c1b5-4354-b51a-3ef6215321d8</td>\n",
              "      <td>NaN</td>\n",
              "      <td>NaN</td>\n",
              "      <td>NaN</td>\n",
              "      <td>NaN</td>\n",
              "      <td>3508d9be-fb82-4a27-b613-446db4ea8744</td>\n",
              "      <td>c21d1fe5-8d29-4ea7-a011-1b5c669ad647</td>\n",
              "      <td>37826</td>\n",
              "      <td>6</td>\n",
              "      <td>False</td>\n",
              "      <td>False</td>\n",
              "    </tr>\n",
              "    <tr>\n",
              "      <th>4</th>\n",
              "      <td>4</td>\n",
              "      <td>92f738fe-2c04-416a-9d08-24c1d51a23c9</td>\n",
              "      <td>e7ce1baf-4ca7-4ee1-9daa-e1d2506be956</td>\n",
              "      <td>UTYZ</td>\n",
              "      <td>1/20/2021 9:46</td>\n",
              "      <td>2020</td>\n",
              "      <td>3388</td>\n",
              "      <td>9fb90110-577c-444c-889f-cafed1da6a0b</td>\n",
              "      <td>2f19f5c8-ae53-406e-a7cc-41b21641fb90</td>\n",
              "      <td>NaN</td>\n",
              "      <td>NaN</td>\n",
              "      <td>NaN</td>\n",
              "      <td>NaN</td>\n",
              "      <td>426e5759-33cb-4e38-9cd7-f2993232f1bd</td>\n",
              "      <td>16d0f8ca-74bf-4fdf-8b12-cede25538a6d</td>\n",
              "      <td>23380</td>\n",
              "      <td>50</td>\n",
              "      <td>True</td>\n",
              "      <td>False</td>\n",
              "    </tr>\n",
              "  </tbody>\n",
              "</table>\n",
              "</div>\n",
              "    <div class=\"colab-df-buttons\">\n",
              "\n",
              "  <div class=\"colab-df-container\">\n",
              "    <button class=\"colab-df-convert\" onclick=\"convertToInteractive('df-6324b654-510e-453f-8a81-80de7eeaa579')\"\n",
              "            title=\"Convert this dataframe to an interactive table.\"\n",
              "            style=\"display:none;\">\n",
              "\n",
              "  <svg xmlns=\"http://www.w3.org/2000/svg\" height=\"24px\" viewBox=\"0 -960 960 960\">\n",
              "    <path d=\"M120-120v-720h720v720H120Zm60-500h600v-160H180v160Zm220 220h160v-160H400v160Zm0 220h160v-160H400v160ZM180-400h160v-160H180v160Zm440 0h160v-160H620v160ZM180-180h160v-160H180v160Zm440 0h160v-160H620v160Z\"/>\n",
              "  </svg>\n",
              "    </button>\n",
              "\n",
              "  <style>\n",
              "    .colab-df-container {\n",
              "      display:flex;\n",
              "      gap: 12px;\n",
              "    }\n",
              "\n",
              "    .colab-df-convert {\n",
              "      background-color: #E8F0FE;\n",
              "      border: none;\n",
              "      border-radius: 50%;\n",
              "      cursor: pointer;\n",
              "      display: none;\n",
              "      fill: #1967D2;\n",
              "      height: 32px;\n",
              "      padding: 0 0 0 0;\n",
              "      width: 32px;\n",
              "    }\n",
              "\n",
              "    .colab-df-convert:hover {\n",
              "      background-color: #E2EBFA;\n",
              "      box-shadow: 0px 1px 2px rgba(60, 64, 67, 0.3), 0px 1px 3px 1px rgba(60, 64, 67, 0.15);\n",
              "      fill: #174EA6;\n",
              "    }\n",
              "\n",
              "    .colab-df-buttons div {\n",
              "      margin-bottom: 4px;\n",
              "    }\n",
              "\n",
              "    [theme=dark] .colab-df-convert {\n",
              "      background-color: #3B4455;\n",
              "      fill: #D2E3FC;\n",
              "    }\n",
              "\n",
              "    [theme=dark] .colab-df-convert:hover {\n",
              "      background-color: #434B5C;\n",
              "      box-shadow: 0px 1px 3px 1px rgba(0, 0, 0, 0.15);\n",
              "      filter: drop-shadow(0px 1px 2px rgba(0, 0, 0, 0.3));\n",
              "      fill: #FFFFFF;\n",
              "    }\n",
              "  </style>\n",
              "\n",
              "    <script>\n",
              "      const buttonEl =\n",
              "        document.querySelector('#df-6324b654-510e-453f-8a81-80de7eeaa579 button.colab-df-convert');\n",
              "      buttonEl.style.display =\n",
              "        google.colab.kernel.accessAllowed ? 'block' : 'none';\n",
              "\n",
              "      async function convertToInteractive(key) {\n",
              "        const element = document.querySelector('#df-6324b654-510e-453f-8a81-80de7eeaa579');\n",
              "        const dataTable =\n",
              "          await google.colab.kernel.invokeFunction('convertToInteractive',\n",
              "                                                    [key], {});\n",
              "        if (!dataTable) return;\n",
              "\n",
              "        const docLinkHtml = 'Like what you see? Visit the ' +\n",
              "          '<a target=\"_blank\" href=https://colab.research.google.com/notebooks/data_table.ipynb>data table notebook</a>'\n",
              "          + ' to learn more about interactive tables.';\n",
              "        element.innerHTML = '';\n",
              "        dataTable['output_type'] = 'display_data';\n",
              "        await google.colab.output.renderOutput(dataTable, element);\n",
              "        const docLink = document.createElement('div');\n",
              "        docLink.innerHTML = docLinkHtml;\n",
              "        element.appendChild(docLink);\n",
              "      }\n",
              "    </script>\n",
              "  </div>\n",
              "\n",
              "\n",
              "<div id=\"df-94484bb6-70f2-4d16-a9b8-7c03f5df76eb\">\n",
              "  <button class=\"colab-df-quickchart\" onclick=\"quickchart('df-94484bb6-70f2-4d16-a9b8-7c03f5df76eb')\"\n",
              "            title=\"Suggest charts\"\n",
              "            style=\"display:none;\">\n",
              "\n",
              "<svg xmlns=\"http://www.w3.org/2000/svg\" height=\"24px\"viewBox=\"0 0 24 24\"\n",
              "     width=\"24px\">\n",
              "    <g>\n",
              "        <path d=\"M19 3H5c-1.1 0-2 .9-2 2v14c0 1.1.9 2 2 2h14c1.1 0 2-.9 2-2V5c0-1.1-.9-2-2-2zM9 17H7v-7h2v7zm4 0h-2V7h2v10zm4 0h-2v-4h2v4z\"/>\n",
              "    </g>\n",
              "</svg>\n",
              "  </button>\n",
              "\n",
              "<style>\n",
              "  .colab-df-quickchart {\n",
              "      --bg-color: #E8F0FE;\n",
              "      --fill-color: #1967D2;\n",
              "      --hover-bg-color: #E2EBFA;\n",
              "      --hover-fill-color: #174EA6;\n",
              "      --disabled-fill-color: #AAA;\n",
              "      --disabled-bg-color: #DDD;\n",
              "  }\n",
              "\n",
              "  [theme=dark] .colab-df-quickchart {\n",
              "      --bg-color: #3B4455;\n",
              "      --fill-color: #D2E3FC;\n",
              "      --hover-bg-color: #434B5C;\n",
              "      --hover-fill-color: #FFFFFF;\n",
              "      --disabled-bg-color: #3B4455;\n",
              "      --disabled-fill-color: #666;\n",
              "  }\n",
              "\n",
              "  .colab-df-quickchart {\n",
              "    background-color: var(--bg-color);\n",
              "    border: none;\n",
              "    border-radius: 50%;\n",
              "    cursor: pointer;\n",
              "    display: none;\n",
              "    fill: var(--fill-color);\n",
              "    height: 32px;\n",
              "    padding: 0;\n",
              "    width: 32px;\n",
              "  }\n",
              "\n",
              "  .colab-df-quickchart:hover {\n",
              "    background-color: var(--hover-bg-color);\n",
              "    box-shadow: 0 1px 2px rgba(60, 64, 67, 0.3), 0 1px 3px 1px rgba(60, 64, 67, 0.15);\n",
              "    fill: var(--button-hover-fill-color);\n",
              "  }\n",
              "\n",
              "  .colab-df-quickchart-complete:disabled,\n",
              "  .colab-df-quickchart-complete:disabled:hover {\n",
              "    background-color: var(--disabled-bg-color);\n",
              "    fill: var(--disabled-fill-color);\n",
              "    box-shadow: none;\n",
              "  }\n",
              "\n",
              "  .colab-df-spinner {\n",
              "    border: 2px solid var(--fill-color);\n",
              "    border-color: transparent;\n",
              "    border-bottom-color: var(--fill-color);\n",
              "    animation:\n",
              "      spin 1s steps(1) infinite;\n",
              "  }\n",
              "\n",
              "  @keyframes spin {\n",
              "    0% {\n",
              "      border-color: transparent;\n",
              "      border-bottom-color: var(--fill-color);\n",
              "      border-left-color: var(--fill-color);\n",
              "    }\n",
              "    20% {\n",
              "      border-color: transparent;\n",
              "      border-left-color: var(--fill-color);\n",
              "      border-top-color: var(--fill-color);\n",
              "    }\n",
              "    30% {\n",
              "      border-color: transparent;\n",
              "      border-left-color: var(--fill-color);\n",
              "      border-top-color: var(--fill-color);\n",
              "      border-right-color: var(--fill-color);\n",
              "    }\n",
              "    40% {\n",
              "      border-color: transparent;\n",
              "      border-right-color: var(--fill-color);\n",
              "      border-top-color: var(--fill-color);\n",
              "    }\n",
              "    60% {\n",
              "      border-color: transparent;\n",
              "      border-right-color: var(--fill-color);\n",
              "    }\n",
              "    80% {\n",
              "      border-color: transparent;\n",
              "      border-right-color: var(--fill-color);\n",
              "      border-bottom-color: var(--fill-color);\n",
              "    }\n",
              "    90% {\n",
              "      border-color: transparent;\n",
              "      border-bottom-color: var(--fill-color);\n",
              "    }\n",
              "  }\n",
              "</style>\n",
              "\n",
              "  <script>\n",
              "    async function quickchart(key) {\n",
              "      const quickchartButtonEl =\n",
              "        document.querySelector('#' + key + ' button');\n",
              "      quickchartButtonEl.disabled = true;  // To prevent multiple clicks.\n",
              "      quickchartButtonEl.classList.add('colab-df-spinner');\n",
              "      try {\n",
              "        const charts = await google.colab.kernel.invokeFunction(\n",
              "            'suggestCharts', [key], {});\n",
              "      } catch (error) {\n",
              "        console.error('Error during call to suggestCharts:', error);\n",
              "      }\n",
              "      quickchartButtonEl.classList.remove('colab-df-spinner');\n",
              "      quickchartButtonEl.classList.add('colab-df-quickchart-complete');\n",
              "    }\n",
              "    (() => {\n",
              "      let quickchartButtonEl =\n",
              "        document.querySelector('#df-94484bb6-70f2-4d16-a9b8-7c03f5df76eb button');\n",
              "      quickchartButtonEl.style.display =\n",
              "        google.colab.kernel.accessAllowed ? 'block' : 'none';\n",
              "    })();\n",
              "  </script>\n",
              "</div>\n",
              "\n",
              "    </div>\n",
              "  </div>\n"
            ],
            "application/vnd.google.colaboratory.intrinsic+json": {
              "type": "dataframe",
              "variable_name": "df_true"
            }
          },
          "metadata": {},
          "execution_count": 24
        }
      ]
    },
    {
      "cell_type": "code",
      "source": [
        "# prompt: filter the dataframe so that it only extracts  IS_SUSPICIOUS = 1\n",
        "\n",
        "df_sus = raw_df[raw_df['IS_SUSPICIOUS'] == True]\n",
        "df_sus.head()"
      ],
      "metadata": {
        "colab": {
          "base_uri": "https://localhost:8080/",
          "height": 504
        },
        "id": "YAUSGl-8YiBg",
        "outputId": "adc23045-bfc5-40ce-fa8c-cd1806846494"
      },
      "execution_count": null,
      "outputs": [
        {
          "output_type": "execute_result",
          "data": {
            "text/plain": [
              "       Unnamed: 0                           TAXPAYER_ID  \\\n",
              "8310         8310  0f89d168-ef66-4984-baa0-949961521ecb   \n",
              "14400       14400  33e60548-787c-4114-89e0-39078481e25f   \n",
              "21993       21993  2bb396aa-041a-464a-bf08-a68eab876e48   \n",
              "23037       23037  ef4dc890-8112-49a0-ac31-5f5cf5b31fab   \n",
              "23053       23053  4c9504fa-7ca2-4c73-ab44-b634863a13eb   \n",
              "\n",
              "                                    FIRM_ID  CLIENT_ID FILED_DATETIME  \\\n",
              "8310   fb173f4b-ca08-4623-8038-e1456abc733a  XMOETEQAY        04:40.7   \n",
              "14400  32dc1ad9-f5f5-4570-b67b-a2175f08816b       CMPJ        25:12.0   \n",
              "21993  b0a5144a-eb85-407e-9989-e8c7c57a34f9    GMVXGKR        59:06.2   \n",
              "23037  0355f163-b4ac-4c1a-b118-717a821aceab       CUCS        52:55.0   \n",
              "23053  0355f163-b4ac-4c1a-b118-717a821aceab   SUZTRBOA        00:33.2   \n",
              "\n",
              "       TAX_YEAR  REFUND                       ROUTING_NUMBER1  \\\n",
              "8310       2020    6560  ed86a31f-c21c-4547-bedb-308e6d36cbee   \n",
              "14400      2020   10390  46843026-9c4f-4974-91a6-5b6b330d174a   \n",
              "21993      2020   11592  af030bea-c897-4dc5-88df-33a7975f4629   \n",
              "23037      2020    8640  44f92ba1-24d9-4211-932c-943a1035b682   \n",
              "23053      2020    4567  1171a39a-a71b-42ae-801d-d20ce0f28828   \n",
              "\n",
              "                           DEPOSIT_ACCOUNT1 ROUTING_NUMBER2 DEPOSIT_ACCOUNT2  \\\n",
              "8310   7c7e862b-812d-446b-9e6d-f21427351bc2             NaN              NaN   \n",
              "14400  b59b22af-6250-40c9-804b-0f07437291b0             NaN              NaN   \n",
              "21993  5c96a7ff-c58a-4268-9f47-92cfa52ffd9d             NaN              NaN   \n",
              "23037  dad09c7d-ae05-4cd0-a4e1-bc4c194afda9             NaN              NaN   \n",
              "23053  05d16641-9df5-4ad7-a318-d7ab3f820143             NaN              NaN   \n",
              "\n",
              "      ROUTING_NUMBER3 DEPOSIT_ACCOUNT3                                  PTIN  \\\n",
              "8310              NaN              NaN  e980b2c4-014a-4cdc-b2b7-b4d7a0ca91ba   \n",
              "14400             NaN              NaN  4dd340d5-ea28-42fc-803f-9b0b353de015   \n",
              "21993             NaN              NaN  8d34caac-be26-44e7-a2a9-03a541538f88   \n",
              "23037             NaN              NaN  ee768edc-1ca0-4c04-af87-a453779ec27a   \n",
              "23053             NaN              NaN  ee768edc-1ca0-4c04-af87-a453779ec27a   \n",
              "\n",
              "                                 IP_ADDRESS  ZIPCODE  STATE_PLACEHOLDER  \\\n",
              "8310   b70daf54-af37-4557-bcbc-75735f9dcd65    29229                 13   \n",
              "14400  d4208da3-a389-414b-8b8e-dfa269cd716c    44575                 15   \n",
              "21993  1ee19b36-d886-4282-a7ac-e8a8c45fd64c    43703                 21   \n",
              "23037  70b0f6dc-782a-41b0-bd24-ccd8c015cbc4    96319                 35   \n",
              "23053  70b0f6dc-782a-41b0-bd24-ccd8c015cbc4    59189                 43   \n",
              "\n",
              "       STATE_ATTACHED  IS_SUSPICIOUS  \n",
              "8310             True           True  \n",
              "14400            True           True  \n",
              "21993            True           True  \n",
              "23037           False           True  \n",
              "23053            True           True  "
            ],
            "text/html": [
              "\n",
              "  <div id=\"df-5ee7f531-1f01-49bc-a19b-d62abbbac16f\" class=\"colab-df-container\">\n",
              "    <div>\n",
              "<style scoped>\n",
              "    .dataframe tbody tr th:only-of-type {\n",
              "        vertical-align: middle;\n",
              "    }\n",
              "\n",
              "    .dataframe tbody tr th {\n",
              "        vertical-align: top;\n",
              "    }\n",
              "\n",
              "    .dataframe thead th {\n",
              "        text-align: right;\n",
              "    }\n",
              "</style>\n",
              "<table border=\"1\" class=\"dataframe\">\n",
              "  <thead>\n",
              "    <tr style=\"text-align: right;\">\n",
              "      <th></th>\n",
              "      <th>Unnamed: 0</th>\n",
              "      <th>TAXPAYER_ID</th>\n",
              "      <th>FIRM_ID</th>\n",
              "      <th>CLIENT_ID</th>\n",
              "      <th>FILED_DATETIME</th>\n",
              "      <th>TAX_YEAR</th>\n",
              "      <th>REFUND</th>\n",
              "      <th>ROUTING_NUMBER1</th>\n",
              "      <th>DEPOSIT_ACCOUNT1</th>\n",
              "      <th>ROUTING_NUMBER2</th>\n",
              "      <th>DEPOSIT_ACCOUNT2</th>\n",
              "      <th>ROUTING_NUMBER3</th>\n",
              "      <th>DEPOSIT_ACCOUNT3</th>\n",
              "      <th>PTIN</th>\n",
              "      <th>IP_ADDRESS</th>\n",
              "      <th>ZIPCODE</th>\n",
              "      <th>STATE_PLACEHOLDER</th>\n",
              "      <th>STATE_ATTACHED</th>\n",
              "      <th>IS_SUSPICIOUS</th>\n",
              "    </tr>\n",
              "  </thead>\n",
              "  <tbody>\n",
              "    <tr>\n",
              "      <th>8310</th>\n",
              "      <td>8310</td>\n",
              "      <td>0f89d168-ef66-4984-baa0-949961521ecb</td>\n",
              "      <td>fb173f4b-ca08-4623-8038-e1456abc733a</td>\n",
              "      <td>XMOETEQAY</td>\n",
              "      <td>04:40.7</td>\n",
              "      <td>2020</td>\n",
              "      <td>6560</td>\n",
              "      <td>ed86a31f-c21c-4547-bedb-308e6d36cbee</td>\n",
              "      <td>7c7e862b-812d-446b-9e6d-f21427351bc2</td>\n",
              "      <td>NaN</td>\n",
              "      <td>NaN</td>\n",
              "      <td>NaN</td>\n",
              "      <td>NaN</td>\n",
              "      <td>e980b2c4-014a-4cdc-b2b7-b4d7a0ca91ba</td>\n",
              "      <td>b70daf54-af37-4557-bcbc-75735f9dcd65</td>\n",
              "      <td>29229</td>\n",
              "      <td>13</td>\n",
              "      <td>True</td>\n",
              "      <td>True</td>\n",
              "    </tr>\n",
              "    <tr>\n",
              "      <th>14400</th>\n",
              "      <td>14400</td>\n",
              "      <td>33e60548-787c-4114-89e0-39078481e25f</td>\n",
              "      <td>32dc1ad9-f5f5-4570-b67b-a2175f08816b</td>\n",
              "      <td>CMPJ</td>\n",
              "      <td>25:12.0</td>\n",
              "      <td>2020</td>\n",
              "      <td>10390</td>\n",
              "      <td>46843026-9c4f-4974-91a6-5b6b330d174a</td>\n",
              "      <td>b59b22af-6250-40c9-804b-0f07437291b0</td>\n",
              "      <td>NaN</td>\n",
              "      <td>NaN</td>\n",
              "      <td>NaN</td>\n",
              "      <td>NaN</td>\n",
              "      <td>4dd340d5-ea28-42fc-803f-9b0b353de015</td>\n",
              "      <td>d4208da3-a389-414b-8b8e-dfa269cd716c</td>\n",
              "      <td>44575</td>\n",
              "      <td>15</td>\n",
              "      <td>True</td>\n",
              "      <td>True</td>\n",
              "    </tr>\n",
              "    <tr>\n",
              "      <th>21993</th>\n",
              "      <td>21993</td>\n",
              "      <td>2bb396aa-041a-464a-bf08-a68eab876e48</td>\n",
              "      <td>b0a5144a-eb85-407e-9989-e8c7c57a34f9</td>\n",
              "      <td>GMVXGKR</td>\n",
              "      <td>59:06.2</td>\n",
              "      <td>2020</td>\n",
              "      <td>11592</td>\n",
              "      <td>af030bea-c897-4dc5-88df-33a7975f4629</td>\n",
              "      <td>5c96a7ff-c58a-4268-9f47-92cfa52ffd9d</td>\n",
              "      <td>NaN</td>\n",
              "      <td>NaN</td>\n",
              "      <td>NaN</td>\n",
              "      <td>NaN</td>\n",
              "      <td>8d34caac-be26-44e7-a2a9-03a541538f88</td>\n",
              "      <td>1ee19b36-d886-4282-a7ac-e8a8c45fd64c</td>\n",
              "      <td>43703</td>\n",
              "      <td>21</td>\n",
              "      <td>True</td>\n",
              "      <td>True</td>\n",
              "    </tr>\n",
              "    <tr>\n",
              "      <th>23037</th>\n",
              "      <td>23037</td>\n",
              "      <td>ef4dc890-8112-49a0-ac31-5f5cf5b31fab</td>\n",
              "      <td>0355f163-b4ac-4c1a-b118-717a821aceab</td>\n",
              "      <td>CUCS</td>\n",
              "      <td>52:55.0</td>\n",
              "      <td>2020</td>\n",
              "      <td>8640</td>\n",
              "      <td>44f92ba1-24d9-4211-932c-943a1035b682</td>\n",
              "      <td>dad09c7d-ae05-4cd0-a4e1-bc4c194afda9</td>\n",
              "      <td>NaN</td>\n",
              "      <td>NaN</td>\n",
              "      <td>NaN</td>\n",
              "      <td>NaN</td>\n",
              "      <td>ee768edc-1ca0-4c04-af87-a453779ec27a</td>\n",
              "      <td>70b0f6dc-782a-41b0-bd24-ccd8c015cbc4</td>\n",
              "      <td>96319</td>\n",
              "      <td>35</td>\n",
              "      <td>False</td>\n",
              "      <td>True</td>\n",
              "    </tr>\n",
              "    <tr>\n",
              "      <th>23053</th>\n",
              "      <td>23053</td>\n",
              "      <td>4c9504fa-7ca2-4c73-ab44-b634863a13eb</td>\n",
              "      <td>0355f163-b4ac-4c1a-b118-717a821aceab</td>\n",
              "      <td>SUZTRBOA</td>\n",
              "      <td>00:33.2</td>\n",
              "      <td>2020</td>\n",
              "      <td>4567</td>\n",
              "      <td>1171a39a-a71b-42ae-801d-d20ce0f28828</td>\n",
              "      <td>05d16641-9df5-4ad7-a318-d7ab3f820143</td>\n",
              "      <td>NaN</td>\n",
              "      <td>NaN</td>\n",
              "      <td>NaN</td>\n",
              "      <td>NaN</td>\n",
              "      <td>ee768edc-1ca0-4c04-af87-a453779ec27a</td>\n",
              "      <td>70b0f6dc-782a-41b0-bd24-ccd8c015cbc4</td>\n",
              "      <td>59189</td>\n",
              "      <td>43</td>\n",
              "      <td>True</td>\n",
              "      <td>True</td>\n",
              "    </tr>\n",
              "  </tbody>\n",
              "</table>\n",
              "</div>\n",
              "    <div class=\"colab-df-buttons\">\n",
              "\n",
              "  <div class=\"colab-df-container\">\n",
              "    <button class=\"colab-df-convert\" onclick=\"convertToInteractive('df-5ee7f531-1f01-49bc-a19b-d62abbbac16f')\"\n",
              "            title=\"Convert this dataframe to an interactive table.\"\n",
              "            style=\"display:none;\">\n",
              "\n",
              "  <svg xmlns=\"http://www.w3.org/2000/svg\" height=\"24px\" viewBox=\"0 -960 960 960\">\n",
              "    <path d=\"M120-120v-720h720v720H120Zm60-500h600v-160H180v160Zm220 220h160v-160H400v160Zm0 220h160v-160H400v160ZM180-400h160v-160H180v160Zm440 0h160v-160H620v160ZM180-180h160v-160H180v160Zm440 0h160v-160H620v160Z\"/>\n",
              "  </svg>\n",
              "    </button>\n",
              "\n",
              "  <style>\n",
              "    .colab-df-container {\n",
              "      display:flex;\n",
              "      gap: 12px;\n",
              "    }\n",
              "\n",
              "    .colab-df-convert {\n",
              "      background-color: #E8F0FE;\n",
              "      border: none;\n",
              "      border-radius: 50%;\n",
              "      cursor: pointer;\n",
              "      display: none;\n",
              "      fill: #1967D2;\n",
              "      height: 32px;\n",
              "      padding: 0 0 0 0;\n",
              "      width: 32px;\n",
              "    }\n",
              "\n",
              "    .colab-df-convert:hover {\n",
              "      background-color: #E2EBFA;\n",
              "      box-shadow: 0px 1px 2px rgba(60, 64, 67, 0.3), 0px 1px 3px 1px rgba(60, 64, 67, 0.15);\n",
              "      fill: #174EA6;\n",
              "    }\n",
              "\n",
              "    .colab-df-buttons div {\n",
              "      margin-bottom: 4px;\n",
              "    }\n",
              "\n",
              "    [theme=dark] .colab-df-convert {\n",
              "      background-color: #3B4455;\n",
              "      fill: #D2E3FC;\n",
              "    }\n",
              "\n",
              "    [theme=dark] .colab-df-convert:hover {\n",
              "      background-color: #434B5C;\n",
              "      box-shadow: 0px 1px 3px 1px rgba(0, 0, 0, 0.15);\n",
              "      filter: drop-shadow(0px 1px 2px rgba(0, 0, 0, 0.3));\n",
              "      fill: #FFFFFF;\n",
              "    }\n",
              "  </style>\n",
              "\n",
              "    <script>\n",
              "      const buttonEl =\n",
              "        document.querySelector('#df-5ee7f531-1f01-49bc-a19b-d62abbbac16f button.colab-df-convert');\n",
              "      buttonEl.style.display =\n",
              "        google.colab.kernel.accessAllowed ? 'block' : 'none';\n",
              "\n",
              "      async function convertToInteractive(key) {\n",
              "        const element = document.querySelector('#df-5ee7f531-1f01-49bc-a19b-d62abbbac16f');\n",
              "        const dataTable =\n",
              "          await google.colab.kernel.invokeFunction('convertToInteractive',\n",
              "                                                    [key], {});\n",
              "        if (!dataTable) return;\n",
              "\n",
              "        const docLinkHtml = 'Like what you see? Visit the ' +\n",
              "          '<a target=\"_blank\" href=https://colab.research.google.com/notebooks/data_table.ipynb>data table notebook</a>'\n",
              "          + ' to learn more about interactive tables.';\n",
              "        element.innerHTML = '';\n",
              "        dataTable['output_type'] = 'display_data';\n",
              "        await google.colab.output.renderOutput(dataTable, element);\n",
              "        const docLink = document.createElement('div');\n",
              "        docLink.innerHTML = docLinkHtml;\n",
              "        element.appendChild(docLink);\n",
              "      }\n",
              "    </script>\n",
              "  </div>\n",
              "\n",
              "\n",
              "<div id=\"df-b4d2daf8-21ab-476d-a573-39def1c6abdd\">\n",
              "  <button class=\"colab-df-quickchart\" onclick=\"quickchart('df-b4d2daf8-21ab-476d-a573-39def1c6abdd')\"\n",
              "            title=\"Suggest charts\"\n",
              "            style=\"display:none;\">\n",
              "\n",
              "<svg xmlns=\"http://www.w3.org/2000/svg\" height=\"24px\"viewBox=\"0 0 24 24\"\n",
              "     width=\"24px\">\n",
              "    <g>\n",
              "        <path d=\"M19 3H5c-1.1 0-2 .9-2 2v14c0 1.1.9 2 2 2h14c1.1 0 2-.9 2-2V5c0-1.1-.9-2-2-2zM9 17H7v-7h2v7zm4 0h-2V7h2v10zm4 0h-2v-4h2v4z\"/>\n",
              "    </g>\n",
              "</svg>\n",
              "  </button>\n",
              "\n",
              "<style>\n",
              "  .colab-df-quickchart {\n",
              "      --bg-color: #E8F0FE;\n",
              "      --fill-color: #1967D2;\n",
              "      --hover-bg-color: #E2EBFA;\n",
              "      --hover-fill-color: #174EA6;\n",
              "      --disabled-fill-color: #AAA;\n",
              "      --disabled-bg-color: #DDD;\n",
              "  }\n",
              "\n",
              "  [theme=dark] .colab-df-quickchart {\n",
              "      --bg-color: #3B4455;\n",
              "      --fill-color: #D2E3FC;\n",
              "      --hover-bg-color: #434B5C;\n",
              "      --hover-fill-color: #FFFFFF;\n",
              "      --disabled-bg-color: #3B4455;\n",
              "      --disabled-fill-color: #666;\n",
              "  }\n",
              "\n",
              "  .colab-df-quickchart {\n",
              "    background-color: var(--bg-color);\n",
              "    border: none;\n",
              "    border-radius: 50%;\n",
              "    cursor: pointer;\n",
              "    display: none;\n",
              "    fill: var(--fill-color);\n",
              "    height: 32px;\n",
              "    padding: 0;\n",
              "    width: 32px;\n",
              "  }\n",
              "\n",
              "  .colab-df-quickchart:hover {\n",
              "    background-color: var(--hover-bg-color);\n",
              "    box-shadow: 0 1px 2px rgba(60, 64, 67, 0.3), 0 1px 3px 1px rgba(60, 64, 67, 0.15);\n",
              "    fill: var(--button-hover-fill-color);\n",
              "  }\n",
              "\n",
              "  .colab-df-quickchart-complete:disabled,\n",
              "  .colab-df-quickchart-complete:disabled:hover {\n",
              "    background-color: var(--disabled-bg-color);\n",
              "    fill: var(--disabled-fill-color);\n",
              "    box-shadow: none;\n",
              "  }\n",
              "\n",
              "  .colab-df-spinner {\n",
              "    border: 2px solid var(--fill-color);\n",
              "    border-color: transparent;\n",
              "    border-bottom-color: var(--fill-color);\n",
              "    animation:\n",
              "      spin 1s steps(1) infinite;\n",
              "  }\n",
              "\n",
              "  @keyframes spin {\n",
              "    0% {\n",
              "      border-color: transparent;\n",
              "      border-bottom-color: var(--fill-color);\n",
              "      border-left-color: var(--fill-color);\n",
              "    }\n",
              "    20% {\n",
              "      border-color: transparent;\n",
              "      border-left-color: var(--fill-color);\n",
              "      border-top-color: var(--fill-color);\n",
              "    }\n",
              "    30% {\n",
              "      border-color: transparent;\n",
              "      border-left-color: var(--fill-color);\n",
              "      border-top-color: var(--fill-color);\n",
              "      border-right-color: var(--fill-color);\n",
              "    }\n",
              "    40% {\n",
              "      border-color: transparent;\n",
              "      border-right-color: var(--fill-color);\n",
              "      border-top-color: var(--fill-color);\n",
              "    }\n",
              "    60% {\n",
              "      border-color: transparent;\n",
              "      border-right-color: var(--fill-color);\n",
              "    }\n",
              "    80% {\n",
              "      border-color: transparent;\n",
              "      border-right-color: var(--fill-color);\n",
              "      border-bottom-color: var(--fill-color);\n",
              "    }\n",
              "    90% {\n",
              "      border-color: transparent;\n",
              "      border-bottom-color: var(--fill-color);\n",
              "    }\n",
              "  }\n",
              "</style>\n",
              "\n",
              "  <script>\n",
              "    async function quickchart(key) {\n",
              "      const quickchartButtonEl =\n",
              "        document.querySelector('#' + key + ' button');\n",
              "      quickchartButtonEl.disabled = true;  // To prevent multiple clicks.\n",
              "      quickchartButtonEl.classList.add('colab-df-spinner');\n",
              "      try {\n",
              "        const charts = await google.colab.kernel.invokeFunction(\n",
              "            'suggestCharts', [key], {});\n",
              "      } catch (error) {\n",
              "        console.error('Error during call to suggestCharts:', error);\n",
              "      }\n",
              "      quickchartButtonEl.classList.remove('colab-df-spinner');\n",
              "      quickchartButtonEl.classList.add('colab-df-quickchart-complete');\n",
              "    }\n",
              "    (() => {\n",
              "      let quickchartButtonEl =\n",
              "        document.querySelector('#df-b4d2daf8-21ab-476d-a573-39def1c6abdd button');\n",
              "      quickchartButtonEl.style.display =\n",
              "        google.colab.kernel.accessAllowed ? 'block' : 'none';\n",
              "    })();\n",
              "  </script>\n",
              "</div>\n",
              "\n",
              "    </div>\n",
              "  </div>\n"
            ],
            "application/vnd.google.colaboratory.intrinsic+json": {
              "type": "dataframe",
              "variable_name": "df_sus",
              "repr_error": "0"
            }
          },
          "metadata": {},
          "execution_count": 8
        }
      ]
    },
    {
      "cell_type": "code",
      "source": [
        "# prompt: count the number of times entry has occured for TAXPAYER_ID and sort it by count in descending order\n",
        "\n",
        "count_taxpayer_id = df_sus['FIRM_ID'].value_counts().sort_values(ascending=False)\n",
        "count_taxpayer_id.head()\n"
      ],
      "metadata": {
        "colab": {
          "base_uri": "https://localhost:8080/"
        },
        "id": "1A5PU90jbMss",
        "outputId": "1e8659c8-c027-4c64-8cee-0a26d573fe3a"
      },
      "execution_count": null,
      "outputs": [
        {
          "output_type": "execute_result",
          "data": {
            "text/plain": [
              "FIRM_ID\n",
              "e7559a6e-ed93-44a9-9e9c-38c418ef9c93    28\n",
              "f07c62be-3d94-4d80-8ab1-c48841a55af8    26\n",
              "558cb3f8-c07d-4072-b4c5-4d13cc47e51a    23\n",
              "892aff0e-4158-4adc-9f79-0f0ed1acccb9    19\n",
              "7a75e00e-d502-4ddf-b528-25acac3d042b    19\n",
              "Name: count, dtype: int64"
            ]
          },
          "metadata": {},
          "execution_count": 9
        }
      ]
    },
    {
      "cell_type": "code",
      "source": [
        "# prompt: count the number of times entry has occured for TAXPAYER_ID and sort it by count in descending order\n",
        "\n",
        "count_taxpayer_id = df_sus['STATE_PLACEHOLDER'].value_counts().sort_values(ascending=False)\n",
        "count_taxpayer_id.head()\n"
      ],
      "metadata": {
        "colab": {
          "base_uri": "https://localhost:8080/"
        },
        "id": "gw_hMSpobxCi",
        "outputId": "937e1192-99ce-4c0a-fdad-f92fba4216d7"
      },
      "execution_count": null,
      "outputs": [
        {
          "output_type": "execute_result",
          "data": {
            "text/plain": [
              "STATE_PLACEHOLDER\n",
              "21    9\n",
              "29    9\n",
              "37    6\n",
              "34    6\n",
              "11    6\n",
              "Name: count, dtype: int64"
            ]
          },
          "metadata": {},
          "execution_count": 10
        }
      ]
    },
    {
      "cell_type": "code",
      "source": [
        "# prompt: count the number of times entry has occured for TAXPAYER_ID and sort it by count in descending order\n",
        "\n",
        "count_taxpayer_id = df_sus['STATE_PLACEHOLDER'].value_counts().sort_values(ascending=False)\n",
        "count_taxpayer_id.head()\n"
      ],
      "metadata": {
        "colab": {
          "base_uri": "https://localhost:8080/"
        },
        "id": "7uo_1-5wcVMy",
        "outputId": "2a0f0f71-58dc-440f-f38b-ce9eb903663a"
      },
      "execution_count": null,
      "outputs": [
        {
          "output_type": "execute_result",
          "data": {
            "text/plain": [
              "STATE_PLACEHOLDER\n",
              "21    9\n",
              "29    9\n",
              "37    6\n",
              "34    6\n",
              "11    6\n",
              "Name: count, dtype: int64"
            ]
          },
          "metadata": {},
          "execution_count": 11
        }
      ]
    },
    {
      "cell_type": "code",
      "source": [
        "# prompt: count the number of times entry has occured for TAXPAYER_ID and sort it by count in descending order\n",
        "\n",
        "count_taxpayer_id = df_true['FIRM_ID'].value_counts().sort_values(ascending=False)\n",
        "count_taxpayer_id.head()\n"
      ],
      "metadata": {
        "colab": {
          "base_uri": "https://localhost:8080/"
        },
        "id": "W0nvnoKfbW1u",
        "outputId": "0550035b-36cc-433e-d5d8-381afb6a6cd2"
      },
      "execution_count": null,
      "outputs": [
        {
          "output_type": "execute_result",
          "data": {
            "text/plain": [
              "FIRM_ID\n",
              "b9bef128-3a77-487c-a06d-4caa7de92ec8    287\n",
              "1e63048f-0cef-4925-aa3a-0c1743e63100    252\n",
              "3f096177-18b7-4315-997b-345637d41fa0    250\n",
              "ed846c7f-f472-433e-812a-de6dffacfb5d    250\n",
              "2332a6a6-c91f-4992-9975-fb8764b554d3    249\n",
              "Name: count, dtype: int64"
            ]
          },
          "metadata": {},
          "execution_count": 12
        }
      ]
    },
    {
      "cell_type": "markdown",
      "source": [
        "# Visualization"
      ],
      "metadata": {
        "id": "XwdvwCFcdQVJ"
      }
    },
    {
      "cell_type": "code",
      "source": [
        "labels=[\"Not Suspicious\",\"Suspicious\"]\n",
        "\n",
        "fraud_or_not = raw_df[\"IS_SUSPICIOUS\"].value_counts().tolist()\n",
        "values = [fraud_or_not[0], fraud_or_not[1]]\n",
        "\n",
        "fig = px.pie(values=raw_df['IS_SUSPICIOUS'].value_counts(), names=labels , width=700, height=400, color_discrete_sequence=[\"skyblue\",\"black\"]\n",
        "             ,title=\"Fraud vs Genuine transactions\")\n",
        "fig.show()"
      ],
      "metadata": {
        "colab": {
          "base_uri": "https://localhost:8080/",
          "height": 417
        },
        "id": "pHIdU4oHbrln",
        "outputId": "b3141748-b927-4749-ccd6-ae7a24c80394"
      },
      "execution_count": null,
      "outputs": [
        {
          "output_type": "display_data",
          "data": {
            "text/html": [
              "<html>\n",
              "<head><meta charset=\"utf-8\" /></head>\n",
              "<body>\n",
              "    <div>            <script src=\"https://cdnjs.cloudflare.com/ajax/libs/mathjax/2.7.5/MathJax.js?config=TeX-AMS-MML_SVG\"></script><script type=\"text/javascript\">if (window.MathJax && window.MathJax.Hub && window.MathJax.Hub.Config) {window.MathJax.Hub.Config({SVG: {font: \"STIX-Web\"}});}</script>                <script type=\"text/javascript\">window.PlotlyConfig = {MathJaxConfig: 'local'};</script>\n",
              "        <script charset=\"utf-8\" src=\"https://cdn.plot.ly/plotly-2.24.1.min.js\"></script>                <div id=\"36f4ce65-a474-4f85-9fb5-5da1fcd1e94d\" class=\"plotly-graph-div\" style=\"height:400px; width:700px;\"></div>            <script type=\"text/javascript\">                                    window.PLOTLYENV=window.PLOTLYENV || {};                                    if (document.getElementById(\"36f4ce65-a474-4f85-9fb5-5da1fcd1e94d\")) {                    Plotly.newPlot(                        \"36f4ce65-a474-4f85-9fb5-5da1fcd1e94d\",                        [{\"domain\":{\"x\":[0.0,1.0],\"y\":[0.0,1.0]},\"hovertemplate\":\"label=%{label}\\u003cbr\\u003evalue=%{value}\\u003cextra\\u003e\\u003c\\u002fextra\\u003e\",\"labels\":[\"Not Suspicious\",\"Suspicious\"],\"legendgroup\":\"\",\"name\":\"\",\"showlegend\":true,\"values\":[193267,187],\"type\":\"pie\"}],                        {\"template\":{\"data\":{\"histogram2dcontour\":[{\"type\":\"histogram2dcontour\",\"colorbar\":{\"outlinewidth\":0,\"ticks\":\"\"},\"colorscale\":[[0.0,\"#0d0887\"],[0.1111111111111111,\"#46039f\"],[0.2222222222222222,\"#7201a8\"],[0.3333333333333333,\"#9c179e\"],[0.4444444444444444,\"#bd3786\"],[0.5555555555555556,\"#d8576b\"],[0.6666666666666666,\"#ed7953\"],[0.7777777777777778,\"#fb9f3a\"],[0.8888888888888888,\"#fdca26\"],[1.0,\"#f0f921\"]]}],\"choropleth\":[{\"type\":\"choropleth\",\"colorbar\":{\"outlinewidth\":0,\"ticks\":\"\"}}],\"histogram2d\":[{\"type\":\"histogram2d\",\"colorbar\":{\"outlinewidth\":0,\"ticks\":\"\"},\"colorscale\":[[0.0,\"#0d0887\"],[0.1111111111111111,\"#46039f\"],[0.2222222222222222,\"#7201a8\"],[0.3333333333333333,\"#9c179e\"],[0.4444444444444444,\"#bd3786\"],[0.5555555555555556,\"#d8576b\"],[0.6666666666666666,\"#ed7953\"],[0.7777777777777778,\"#fb9f3a\"],[0.8888888888888888,\"#fdca26\"],[1.0,\"#f0f921\"]]}],\"heatmap\":[{\"type\":\"heatmap\",\"colorbar\":{\"outlinewidth\":0,\"ticks\":\"\"},\"colorscale\":[[0.0,\"#0d0887\"],[0.1111111111111111,\"#46039f\"],[0.2222222222222222,\"#7201a8\"],[0.3333333333333333,\"#9c179e\"],[0.4444444444444444,\"#bd3786\"],[0.5555555555555556,\"#d8576b\"],[0.6666666666666666,\"#ed7953\"],[0.7777777777777778,\"#fb9f3a\"],[0.8888888888888888,\"#fdca26\"],[1.0,\"#f0f921\"]]}],\"heatmapgl\":[{\"type\":\"heatmapgl\",\"colorbar\":{\"outlinewidth\":0,\"ticks\":\"\"},\"colorscale\":[[0.0,\"#0d0887\"],[0.1111111111111111,\"#46039f\"],[0.2222222222222222,\"#7201a8\"],[0.3333333333333333,\"#9c179e\"],[0.4444444444444444,\"#bd3786\"],[0.5555555555555556,\"#d8576b\"],[0.6666666666666666,\"#ed7953\"],[0.7777777777777778,\"#fb9f3a\"],[0.8888888888888888,\"#fdca26\"],[1.0,\"#f0f921\"]]}],\"contourcarpet\":[{\"type\":\"contourcarpet\",\"colorbar\":{\"outlinewidth\":0,\"ticks\":\"\"}}],\"contour\":[{\"type\":\"contour\",\"colorbar\":{\"outlinewidth\":0,\"ticks\":\"\"},\"colorscale\":[[0.0,\"#0d0887\"],[0.1111111111111111,\"#46039f\"],[0.2222222222222222,\"#7201a8\"],[0.3333333333333333,\"#9c179e\"],[0.4444444444444444,\"#bd3786\"],[0.5555555555555556,\"#d8576b\"],[0.6666666666666666,\"#ed7953\"],[0.7777777777777778,\"#fb9f3a\"],[0.8888888888888888,\"#fdca26\"],[1.0,\"#f0f921\"]]}],\"surface\":[{\"type\":\"surface\",\"colorbar\":{\"outlinewidth\":0,\"ticks\":\"\"},\"colorscale\":[[0.0,\"#0d0887\"],[0.1111111111111111,\"#46039f\"],[0.2222222222222222,\"#7201a8\"],[0.3333333333333333,\"#9c179e\"],[0.4444444444444444,\"#bd3786\"],[0.5555555555555556,\"#d8576b\"],[0.6666666666666666,\"#ed7953\"],[0.7777777777777778,\"#fb9f3a\"],[0.8888888888888888,\"#fdca26\"],[1.0,\"#f0f921\"]]}],\"mesh3d\":[{\"type\":\"mesh3d\",\"colorbar\":{\"outlinewidth\":0,\"ticks\":\"\"}}],\"scatter\":[{\"fillpattern\":{\"fillmode\":\"overlay\",\"size\":10,\"solidity\":0.2},\"type\":\"scatter\"}],\"parcoords\":[{\"type\":\"parcoords\",\"line\":{\"colorbar\":{\"outlinewidth\":0,\"ticks\":\"\"}}}],\"scatterpolargl\":[{\"type\":\"scatterpolargl\",\"marker\":{\"colorbar\":{\"outlinewidth\":0,\"ticks\":\"\"}}}],\"bar\":[{\"error_x\":{\"color\":\"#2a3f5f\"},\"error_y\":{\"color\":\"#2a3f5f\"},\"marker\":{\"line\":{\"color\":\"#E5ECF6\",\"width\":0.5},\"pattern\":{\"fillmode\":\"overlay\",\"size\":10,\"solidity\":0.2}},\"type\":\"bar\"}],\"scattergeo\":[{\"type\":\"scattergeo\",\"marker\":{\"colorbar\":{\"outlinewidth\":0,\"ticks\":\"\"}}}],\"scatterpolar\":[{\"type\":\"scatterpolar\",\"marker\":{\"colorbar\":{\"outlinewidth\":0,\"ticks\":\"\"}}}],\"histogram\":[{\"marker\":{\"pattern\":{\"fillmode\":\"overlay\",\"size\":10,\"solidity\":0.2}},\"type\":\"histogram\"}],\"scattergl\":[{\"type\":\"scattergl\",\"marker\":{\"colorbar\":{\"outlinewidth\":0,\"ticks\":\"\"}}}],\"scatter3d\":[{\"type\":\"scatter3d\",\"line\":{\"colorbar\":{\"outlinewidth\":0,\"ticks\":\"\"}},\"marker\":{\"colorbar\":{\"outlinewidth\":0,\"ticks\":\"\"}}}],\"scattermapbox\":[{\"type\":\"scattermapbox\",\"marker\":{\"colorbar\":{\"outlinewidth\":0,\"ticks\":\"\"}}}],\"scatterternary\":[{\"type\":\"scatterternary\",\"marker\":{\"colorbar\":{\"outlinewidth\":0,\"ticks\":\"\"}}}],\"scattercarpet\":[{\"type\":\"scattercarpet\",\"marker\":{\"colorbar\":{\"outlinewidth\":0,\"ticks\":\"\"}}}],\"carpet\":[{\"aaxis\":{\"endlinecolor\":\"#2a3f5f\",\"gridcolor\":\"white\",\"linecolor\":\"white\",\"minorgridcolor\":\"white\",\"startlinecolor\":\"#2a3f5f\"},\"baxis\":{\"endlinecolor\":\"#2a3f5f\",\"gridcolor\":\"white\",\"linecolor\":\"white\",\"minorgridcolor\":\"white\",\"startlinecolor\":\"#2a3f5f\"},\"type\":\"carpet\"}],\"table\":[{\"cells\":{\"fill\":{\"color\":\"#EBF0F8\"},\"line\":{\"color\":\"white\"}},\"header\":{\"fill\":{\"color\":\"#C8D4E3\"},\"line\":{\"color\":\"white\"}},\"type\":\"table\"}],\"barpolar\":[{\"marker\":{\"line\":{\"color\":\"#E5ECF6\",\"width\":0.5},\"pattern\":{\"fillmode\":\"overlay\",\"size\":10,\"solidity\":0.2}},\"type\":\"barpolar\"}],\"pie\":[{\"automargin\":true,\"type\":\"pie\"}]},\"layout\":{\"autotypenumbers\":\"strict\",\"colorway\":[\"#636efa\",\"#EF553B\",\"#00cc96\",\"#ab63fa\",\"#FFA15A\",\"#19d3f3\",\"#FF6692\",\"#B6E880\",\"#FF97FF\",\"#FECB52\"],\"font\":{\"color\":\"#2a3f5f\"},\"hovermode\":\"closest\",\"hoverlabel\":{\"align\":\"left\"},\"paper_bgcolor\":\"white\",\"plot_bgcolor\":\"#E5ECF6\",\"polar\":{\"bgcolor\":\"#E5ECF6\",\"angularaxis\":{\"gridcolor\":\"white\",\"linecolor\":\"white\",\"ticks\":\"\"},\"radialaxis\":{\"gridcolor\":\"white\",\"linecolor\":\"white\",\"ticks\":\"\"}},\"ternary\":{\"bgcolor\":\"#E5ECF6\",\"aaxis\":{\"gridcolor\":\"white\",\"linecolor\":\"white\",\"ticks\":\"\"},\"baxis\":{\"gridcolor\":\"white\",\"linecolor\":\"white\",\"ticks\":\"\"},\"caxis\":{\"gridcolor\":\"white\",\"linecolor\":\"white\",\"ticks\":\"\"}},\"coloraxis\":{\"colorbar\":{\"outlinewidth\":0,\"ticks\":\"\"}},\"colorscale\":{\"sequential\":[[0.0,\"#0d0887\"],[0.1111111111111111,\"#46039f\"],[0.2222222222222222,\"#7201a8\"],[0.3333333333333333,\"#9c179e\"],[0.4444444444444444,\"#bd3786\"],[0.5555555555555556,\"#d8576b\"],[0.6666666666666666,\"#ed7953\"],[0.7777777777777778,\"#fb9f3a\"],[0.8888888888888888,\"#fdca26\"],[1.0,\"#f0f921\"]],\"sequentialminus\":[[0.0,\"#0d0887\"],[0.1111111111111111,\"#46039f\"],[0.2222222222222222,\"#7201a8\"],[0.3333333333333333,\"#9c179e\"],[0.4444444444444444,\"#bd3786\"],[0.5555555555555556,\"#d8576b\"],[0.6666666666666666,\"#ed7953\"],[0.7777777777777778,\"#fb9f3a\"],[0.8888888888888888,\"#fdca26\"],[1.0,\"#f0f921\"]],\"diverging\":[[0,\"#8e0152\"],[0.1,\"#c51b7d\"],[0.2,\"#de77ae\"],[0.3,\"#f1b6da\"],[0.4,\"#fde0ef\"],[0.5,\"#f7f7f7\"],[0.6,\"#e6f5d0\"],[0.7,\"#b8e186\"],[0.8,\"#7fbc41\"],[0.9,\"#4d9221\"],[1,\"#276419\"]]},\"xaxis\":{\"gridcolor\":\"white\",\"linecolor\":\"white\",\"ticks\":\"\",\"title\":{\"standoff\":15},\"zerolinecolor\":\"white\",\"automargin\":true,\"zerolinewidth\":2},\"yaxis\":{\"gridcolor\":\"white\",\"linecolor\":\"white\",\"ticks\":\"\",\"title\":{\"standoff\":15},\"zerolinecolor\":\"white\",\"automargin\":true,\"zerolinewidth\":2},\"scene\":{\"xaxis\":{\"backgroundcolor\":\"#E5ECF6\",\"gridcolor\":\"white\",\"linecolor\":\"white\",\"showbackground\":true,\"ticks\":\"\",\"zerolinecolor\":\"white\",\"gridwidth\":2},\"yaxis\":{\"backgroundcolor\":\"#E5ECF6\",\"gridcolor\":\"white\",\"linecolor\":\"white\",\"showbackground\":true,\"ticks\":\"\",\"zerolinecolor\":\"white\",\"gridwidth\":2},\"zaxis\":{\"backgroundcolor\":\"#E5ECF6\",\"gridcolor\":\"white\",\"linecolor\":\"white\",\"showbackground\":true,\"ticks\":\"\",\"zerolinecolor\":\"white\",\"gridwidth\":2}},\"shapedefaults\":{\"line\":{\"color\":\"#2a3f5f\"}},\"annotationdefaults\":{\"arrowcolor\":\"#2a3f5f\",\"arrowhead\":0,\"arrowwidth\":1},\"geo\":{\"bgcolor\":\"white\",\"landcolor\":\"#E5ECF6\",\"subunitcolor\":\"white\",\"showland\":true,\"showlakes\":true,\"lakecolor\":\"white\"},\"title\":{\"x\":0.05},\"mapbox\":{\"style\":\"light\"}}},\"legend\":{\"tracegroupgap\":0},\"title\":{\"text\":\"Fraud vs Genuine transactions\"},\"piecolorway\":[\"skyblue\",\"black\"],\"height\":400,\"width\":700},                        {\"responsive\": true}                    ).then(function(){\n",
              "                            \n",
              "var gd = document.getElementById('36f4ce65-a474-4f85-9fb5-5da1fcd1e94d');\n",
              "var x = new MutationObserver(function (mutations, observer) {{\n",
              "        var display = window.getComputedStyle(gd).display;\n",
              "        if (!display || display === 'none') {{\n",
              "            console.log([gd, 'removed!']);\n",
              "            Plotly.purge(gd);\n",
              "            observer.disconnect();\n",
              "        }}\n",
              "}});\n",
              "\n",
              "// Listen for the removal of the full notebook cells\n",
              "var notebookContainer = gd.closest('#notebook-container');\n",
              "if (notebookContainer) {{\n",
              "    x.observe(notebookContainer, {childList: true});\n",
              "}}\n",
              "\n",
              "// Listen for the clearing of the current output cell\n",
              "var outputEl = gd.closest('.output');\n",
              "if (outputEl) {{\n",
              "    x.observe(outputEl, {childList: true});\n",
              "}}\n",
              "\n",
              "                        })                };                            </script>        </div>\n",
              "</body>\n",
              "</html>"
            ]
          },
          "metadata": {}
        }
      ]
    },
    {
      "cell_type": "code",
      "source": [
        "plt.figure(figsize=(3,4))\n",
        "ax = sns.countplot(x='IS_SUSPICIOUS',data=raw_df,palette=\"pastel\")\n",
        "for i in ax.containers:\n",
        "    ax.bar_label(i,)"
      ],
      "metadata": {
        "colab": {
          "base_uri": "https://localhost:8080/",
          "height": 511
        },
        "id": "FwAwWQXtdbQY",
        "outputId": "809bd6d9-cf3c-416f-cedb-4b002e7097c7"
      },
      "execution_count": null,
      "outputs": [
        {
          "output_type": "stream",
          "name": "stderr",
          "text": [
            "<ipython-input-14-ef27ddf0252f>:2: FutureWarning:\n",
            "\n",
            "\n",
            "\n",
            "Passing `palette` without assigning `hue` is deprecated and will be removed in v0.14.0. Assign the `x` variable to `hue` and set `legend=False` for the same effect.\n",
            "\n",
            "\n"
          ]
        },
        {
          "output_type": "display_data",
          "data": {
            "text/plain": [
              "<Figure size 300x400 with 1 Axes>"
            ],
            "image/png": "[encoded data removed]"
          },
          "metadata": {}
        }
      ]
    },
    {
      "cell_type": "code",
      "source": [
        "print('Genuine:', round(raw_df['IS_SUSPICIOUS'].value_counts()[0]/len(raw_df) * 100,2), '% of the dataset')\n",
        "print('Frauds:', round(raw_df['IS_SUSPICIOUS'].value_counts()[1]/len(raw_df) * 100,2), '% of the dataset')"
      ],
      "metadata": {
        "colab": {
          "base_uri": "https://localhost:8080/"
        },
        "id": "3yLWl5lQdouy",
        "outputId": "5152e2b1-ff2b-4650-f379-1a070e25dd88"
      },
      "execution_count": null,
      "outputs": [
        {
          "output_type": "stream",
          "name": "stdout",
          "text": [
            "Genuine: 99.9 % of the dataset\n",
            "Frauds: 0.1 % of the dataset\n"
          ]
        }
      ]
    },
    {
      "cell_type": "code",
      "source": [
        "df = raw_df.copy()\n",
        "\n",
        "df.drop_duplicates(inplace=True)\n",
        "print(\"Duplicated values dropped succesfully\")\n",
        "print(\"*\" * 100)"
      ],
      "metadata": {
        "colab": {
          "base_uri": "https://localhost:8080/"
        },
        "id": "wJXdHZtVdsSC",
        "outputId": "940d4fc1-9760-4c4a-84fd-d6eeb46592e2"
      },
      "execution_count": null,
      "outputs": [
        {
          "output_type": "stream",
          "name": "stdout",
          "text": [
            "Duplicated values dropped succesfully\n",
            "****************************************************************************************************\n"
          ]
        }
      ]
    },
    {
      "cell_type": "code",
      "source": [
        "df.head()"
      ],
      "metadata": {
        "colab": {
          "base_uri": "https://localhost:8080/",
          "height": 504
        },
        "id": "wnpWaZxqgAOf",
        "outputId": "b70f944f-e061-4ff9-978e-018e3aea5dfe"
      },
      "execution_count": null,
      "outputs": [
        {
          "output_type": "execute_result",
          "data": {
            "text/plain": [
              "   Unnamed: 0                           TAXPAYER_ID  \\\n",
              "0           0  58d38972-8bca-4f8a-b09d-dd3840c72f87   \n",
              "1           1  b6ee41c8-7ec4-4a82-9c59-93623456003f   \n",
              "2           2  c6e4e68b-7b43-40df-828e-8ae0e8a5e83b   \n",
              "3           3  5d6a3d43-5218-4e9c-8d30-7a94351fc5e7   \n",
              "4           4  92f738fe-2c04-416a-9d08-24c1d51a23c9   \n",
              "\n",
              "                                FIRM_ID  CLIENT_ID  FILED_DATETIME  TAX_YEAR  \\\n",
              "0  e1d5084f-b26f-49ee-ae44-20f49ba14323       YMCV  1/20/2021 0:59      2020   \n",
              "1  c7985081-f56d-48bc-8c41-f6213c6308ea       NEZP  1/20/2021 6:40      2020   \n",
              "2  5793ebb5-c84d-4dfe-b32e-4cf2fc818766  JMQZVSCIY  1/20/2021 7:15      2020   \n",
              "3  af8ef686-0b89-4c23-b768-97b1895753d4      CAZVH  1/20/2021 8:31      2020   \n",
              "4  e7ce1baf-4ca7-4ee1-9daa-e1d2506be956       UTYZ  1/20/2021 9:46      2020   \n",
              "\n",
              "   REFUND                       ROUTING_NUMBER1  \\\n",
              "0    4206  cf6f5e9b-ef6a-4e5d-a018-76a1ed04e66b   \n",
              "1    2276  6e5e6fb4-5ecc-4e3b-b94b-a9de2315d754   \n",
              "2    4373  736bc35b-25b5-429b-bcd2-14f9d807451b   \n",
              "3    1339  752b16b9-b962-4d06-8dc1-6ac20d55c959   \n",
              "4    3388  9fb90110-577c-444c-889f-cafed1da6a0b   \n",
              "\n",
              "                       DEPOSIT_ACCOUNT1 ROUTING_NUMBER2 DEPOSIT_ACCOUNT2  \\\n",
              "0  cb151ba0-40d3-44fa-9084-325180fc3dee             NaN              NaN   \n",
              "1  9b622e78-3331-43dc-8319-1037939c9b4c             NaN              NaN   \n",
              "2  5435d3fe-a0f8-474b-aedc-d8fa4cb1790a             NaN              NaN   \n",
              "3  feeb1b3c-c1b5-4354-b51a-3ef6215321d8             NaN              NaN   \n",
              "4  2f19f5c8-ae53-406e-a7cc-41b21641fb90             NaN              NaN   \n",
              "\n",
              "  ROUTING_NUMBER3 DEPOSIT_ACCOUNT3                                  PTIN  \\\n",
              "0             NaN              NaN  96bc45c7-fcd1-476f-8f6c-6b3bb916b5cd   \n",
              "1             NaN              NaN  f7744112-cb96-474c-b4f2-b2f92484f00b   \n",
              "2             NaN              NaN  f588237a-02e0-4e92-b4cc-5c86e7ea37b3   \n",
              "3             NaN              NaN  3508d9be-fb82-4a27-b613-446db4ea8744   \n",
              "4             NaN              NaN  426e5759-33cb-4e38-9cd7-f2993232f1bd   \n",
              "\n",
              "                             IP_ADDRESS  ZIPCODE  STATE_PLACEHOLDER  \\\n",
              "0  f1786c4e-a4e8-44c3-a61a-e719faeda92b    33863                 47   \n",
              "1  f54ff4d6-2e09-4810-8746-193930327a15    23929                 30   \n",
              "2  c0a4a946-351c-4504-b289-7b8741c8b106    56438                 17   \n",
              "3  c21d1fe5-8d29-4ea7-a011-1b5c669ad647    37826                  6   \n",
              "4  16d0f8ca-74bf-4fdf-8b12-cede25538a6d    23380                 50   \n",
              "\n",
              "   STATE_ATTACHED  IS_SUSPICIOUS  \n",
              "0            True          False  \n",
              "1            True          False  \n",
              "2            True          False  \n",
              "3           False          False  \n",
              "4            True          False  "
            ],
            "text/html": [
              "\n",
              "  <div id=\"df-03d4568d-9b85-42be-bbb8-a9a8d0b409a4\" class=\"colab-df-container\">\n",
              "    <div>\n",
              "<style scoped>\n",
              "    .dataframe tbody tr th:only-of-type {\n",
              "        vertical-align: middle;\n",
              "    }\n",
              "\n",
              "    .dataframe tbody tr th {\n",
              "        vertical-align: top;\n",
              "    }\n",
              "\n",
              "    .dataframe thead th {\n",
              "        text-align: right;\n",
              "    }\n",
              "</style>\n",
              "<table border=\"1\" class=\"dataframe\">\n",
              "  <thead>\n",
              "    <tr style=\"text-align: right;\">\n",
              "      <th></th>\n",
              "      <th>Unnamed: 0</th>\n",
              "      <th>TAXPAYER_ID</th>\n",
              "      <th>FIRM_ID</th>\n",
              "      <th>CLIENT_ID</th>\n",
              "      <th>FILED_DATETIME</th>\n",
              "      <th>TAX_YEAR</th>\n",
              "      <th>REFUND</th>\n",
              "      <th>ROUTING_NUMBER1</th>\n",
              "      <th>DEPOSIT_ACCOUNT1</th>\n",
              "      <th>ROUTING_NUMBER2</th>\n",
              "      <th>DEPOSIT_ACCOUNT2</th>\n",
              "      <th>ROUTING_NUMBER3</th>\n",
              "      <th>DEPOSIT_ACCOUNT3</th>\n",
              "      <th>PTIN</th>\n",
              "      <th>IP_ADDRESS</th>\n",
              "      <th>ZIPCODE</th>\n",
              "      <th>STATE_PLACEHOLDER</th>\n",
              "      <th>STATE_ATTACHED</th>\n",
              "      <th>IS_SUSPICIOUS</th>\n",
              "    </tr>\n",
              "  </thead>\n",
              "  <tbody>\n",
              "    <tr>\n",
              "      <th>0</th>\n",
              "      <td>0</td>\n",
              "      <td>58d38972-8bca-4f8a-b09d-dd3840c72f87</td>\n",
              "      <td>e1d5084f-b26f-49ee-ae44-20f49ba14323</td>\n",
              "      <td>YMCV</td>\n",
              "      <td>1/20/2021 0:59</td>\n",
              "      <td>2020</td>\n",
              "      <td>4206</td>\n",
              "      <td>cf6f5e9b-ef6a-4e5d-a018-76a1ed04e66b</td>\n",
              "      <td>cb151ba0-40d3-44fa-9084-325180fc3dee</td>\n",
              "      <td>NaN</td>\n",
              "      <td>NaN</td>\n",
              "      <td>NaN</td>\n",
              "      <td>NaN</td>\n",
              "      <td>96bc45c7-fcd1-476f-8f6c-6b3bb916b5cd</td>\n",
              "      <td>f1786c4e-a4e8-44c3-a61a-e719faeda92b</td>\n",
              "      <td>33863</td>\n",
              "      <td>47</td>\n",
              "      <td>True</td>\n",
              "      <td>False</td>\n",
              "    </tr>\n",
              "    <tr>\n",
              "      <th>1</th>\n",
              "      <td>1</td>\n",
              "      <td>b6ee41c8-7ec4-4a82-9c59-93623456003f</td>\n",
              "      <td>c7985081-f56d-48bc-8c41-f6213c6308ea</td>\n",
              "      <td>NEZP</td>\n",
              "      <td>1/20/2021 6:40</td>\n",
              "      <td>2020</td>\n",
              "      <td>2276</td>\n",
              "      <td>6e5e6fb4-5ecc-4e3b-b94b-a9de2315d754</td>\n",
              "      <td>9b622e78-3331-43dc-8319-1037939c9b4c</td>\n",
              "      <td>NaN</td>\n",
              "      <td>NaN</td>\n",
              "      <td>NaN</td>\n",
              "      <td>NaN</td>\n",
              "      <td>f7744112-cb96-474c-b4f2-b2f92484f00b</td>\n",
              "      <td>f54ff4d6-2e09-4810-8746-193930327a15</td>\n",
              "      <td>23929</td>\n",
              "      <td>30</td>\n",
              "      <td>True</td>\n",
              "      <td>False</td>\n",
              "    </tr>\n",
              "    <tr>\n",
              "      <th>2</th>\n",
              "      <td>2</td>\n",
              "      <td>c6e4e68b-7b43-40df-828e-8ae0e8a5e83b</td>\n",
              "      <td>5793ebb5-c84d-4dfe-b32e-4cf2fc818766</td>\n",
              "      <td>JMQZVSCIY</td>\n",
              "      <td>1/20/2021 7:15</td>\n",
              "      <td>2020</td>\n",
              "      <td>4373</td>\n",
              "      <td>736bc35b-25b5-429b-bcd2-14f9d807451b</td>\n",
              "      <td>5435d3fe-a0f8-474b-aedc-d8fa4cb1790a</td>\n",
              "      <td>NaN</td>\n",
              "      <td>NaN</td>\n",
              "      <td>NaN</td>\n",
              "      <td>NaN</td>\n",
              "      <td>f588237a-02e0-4e92-b4cc-5c86e7ea37b3</td>\n",
              "      <td>c0a4a946-351c-4504-b289-7b8741c8b106</td>\n",
              "      <td>56438</td>\n",
              "      <td>17</td>\n",
              "      <td>True</td>\n",
              "      <td>False</td>\n",
              "    </tr>\n",
              "    <tr>\n",
              "      <th>3</th>\n",
              "      <td>3</td>\n",
              "      <td>5d6a3d43-5218-4e9c-8d30-7a94351fc5e7</td>\n",
              "      <td>af8ef686-0b89-4c23-b768-97b1895753d4</td>\n",
              "      <td>CAZVH</td>\n",
              "      <td>1/20/2021 8:31</td>\n",
              "      <td>2020</td>\n",
              "      <td>1339</td>\n",
              "      <td>752b16b9-b962-4d06-8dc1-6ac20d55c959</td>\n",
              "      <td>feeb1b3c-c1b5-4354-b51a-3ef6215321d8</td>\n",
              "      <td>NaN</td>\n",
              "      <td>NaN</td>\n",
              "      <td>NaN</td>\n",
              "      <td>NaN</td>\n",
              "      <td>3508d9be-fb82-4a27-b613-446db4ea8744</td>\n",
              "      <td>c21d1fe5-8d29-4ea7-a011-1b5c669ad647</td>\n",
              "      <td>37826</td>\n",
              "      <td>6</td>\n",
              "      <td>False</td>\n",
              "      <td>False</td>\n",
              "    </tr>\n",
              "    <tr>\n",
              "      <th>4</th>\n",
              "      <td>4</td>\n",
              "      <td>92f738fe-2c04-416a-9d08-24c1d51a23c9</td>\n",
              "      <td>e7ce1baf-4ca7-4ee1-9daa-e1d2506be956</td>\n",
              "      <td>UTYZ</td>\n",
              "      <td>1/20/2021 9:46</td>\n",
              "      <td>2020</td>\n",
              "      <td>3388</td>\n",
              "      <td>9fb90110-577c-444c-889f-cafed1da6a0b</td>\n",
              "      <td>2f19f5c8-ae53-406e-a7cc-41b21641fb90</td>\n",
              "      <td>NaN</td>\n",
              "      <td>NaN</td>\n",
              "      <td>NaN</td>\n",
              "      <td>NaN</td>\n",
              "      <td>426e5759-33cb-4e38-9cd7-f2993232f1bd</td>\n",
              "      <td>16d0f8ca-74bf-4fdf-8b12-cede25538a6d</td>\n",
              "      <td>23380</td>\n",
              "      <td>50</td>\n",
              "      <td>True</td>\n",
              "      <td>False</td>\n",
              "    </tr>\n",
              "  </tbody>\n",
              "</table>\n",
              "</div>\n",
              "    <div class=\"colab-df-buttons\">\n",
              "\n",
              "  <div class=\"colab-df-container\">\n",
              "    <button class=\"colab-df-convert\" onclick=\"convertToInteractive('df-03d4568d-9b85-42be-bbb8-a9a8d0b409a4')\"\n",
              "            title=\"Convert this dataframe to an interactive table.\"\n",
              "            style=\"display:none;\">\n",
              "\n",
              "  <svg xmlns=\"http://www.w3.org/2000/svg\" height=\"24px\" viewBox=\"0 -960 960 960\">\n",
              "    <path d=\"M120-120v-720h720v720H120Zm60-500h600v-160H180v160Zm220 220h160v-160H400v160Zm0 220h160v-160H400v160ZM180-400h160v-160H180v160Zm440 0h160v-160H620v160ZM180-180h160v-160H180v160Zm440 0h160v-160H620v160Z\"/>\n",
              "  </svg>\n",
              "    </button>\n",
              "\n",
              "  <style>\n",
              "    .colab-df-container {\n",
              "      display:flex;\n",
              "      gap: 12px;\n",
              "    }\n",
              "\n",
              "    .colab-df-convert {\n",
              "      background-color: #E8F0FE;\n",
              "      border: none;\n",
              "      border-radius: 50%;\n",
              "      cursor: pointer;\n",
              "      display: none;\n",
              "      fill: #1967D2;\n",
              "      height: 32px;\n",
              "      padding: 0 0 0 0;\n",
              "      width: 32px;\n",
              "    }\n",
              "\n",
              "    .colab-df-convert:hover {\n",
              "      background-color: #E2EBFA;\n",
              "      box-shadow: 0px 1px 2px rgba(60, 64, 67, 0.3), 0px 1px 3px 1px rgba(60, 64, 67, 0.15);\n",
              "      fill: #174EA6;\n",
              "    }\n",
              "\n",
              "    .colab-df-buttons div {\n",
              "      margin-bottom: 4px;\n",
              "    }\n",
              "\n",
              "    [theme=dark] .colab-df-convert {\n",
              "      background-color: #3B4455;\n",
              "      fill: #D2E3FC;\n",
              "    }\n",
              "\n",
              "    [theme=dark] .colab-df-convert:hover {\n",
              "      background-color: #434B5C;\n",
              "      box-shadow: 0px 1px 3px 1px rgba(0, 0, 0, 0.15);\n",
              "      filter: drop-shadow(0px 1px 2px rgba(0, 0, 0, 0.3));\n",
              "      fill: #FFFFFF;\n",
              "    }\n",
              "  </style>\n",
              "\n",
              "    <script>\n",
              "      const buttonEl =\n",
              "        document.querySelector('#df-03d4568d-9b85-42be-bbb8-a9a8d0b409a4 button.colab-df-convert');\n",
              "      buttonEl.style.display =\n",
              "        google.colab.kernel.accessAllowed ? 'block' : 'none';\n",
              "\n",
              "      async function convertToInteractive(key) {\n",
              "        const element = document.querySelector('#df-03d4568d-9b85-42be-bbb8-a9a8d0b409a4');\n",
              "        const dataTable =\n",
              "          await google.colab.kernel.invokeFunction('convertToInteractive',\n",
              "                                                    [key], {});\n",
              "        if (!dataTable) return;\n",
              "\n",
              "        const docLinkHtml = 'Like what you see? Visit the ' +\n",
              "          '<a target=\"_blank\" href=https://colab.research.google.com/notebooks/data_table.ipynb>data table notebook</a>'\n",
              "          + ' to learn more about interactive tables.';\n",
              "        element.innerHTML = '';\n",
              "        dataTable['output_type'] = 'display_data';\n",
              "        await google.colab.output.renderOutput(dataTable, element);\n",
              "        const docLink = document.createElement('div');\n",
              "        docLink.innerHTML = docLinkHtml;\n",
              "        element.appendChild(docLink);\n",
              "      }\n",
              "    </script>\n",
              "  </div>\n",
              "\n",
              "\n",
              "<div id=\"df-adf538a1-6fd0-43f8-90b7-9556b47209d2\">\n",
              "  <button class=\"colab-df-quickchart\" onclick=\"quickchart('df-adf538a1-6fd0-43f8-90b7-9556b47209d2')\"\n",
              "            title=\"Suggest charts\"\n",
              "            style=\"display:none;\">\n",
              "\n",
              "<svg xmlns=\"http://www.w3.org/2000/svg\" height=\"24px\"viewBox=\"0 0 24 24\"\n",
              "     width=\"24px\">\n",
              "    <g>\n",
              "        <path d=\"M19 3H5c-1.1 0-2 .9-2 2v14c0 1.1.9 2 2 2h14c1.1 0 2-.9 2-2V5c0-1.1-.9-2-2-2zM9 17H7v-7h2v7zm4 0h-2V7h2v10zm4 0h-2v-4h2v4z\"/>\n",
              "    </g>\n",
              "</svg>\n",
              "  </button>\n",
              "\n",
              "<style>\n",
              "  .colab-df-quickchart {\n",
              "      --bg-color: #E8F0FE;\n",
              "      --fill-color: #1967D2;\n",
              "      --hover-bg-color: #E2EBFA;\n",
              "      --hover-fill-color: #174EA6;\n",
              "      --disabled-fill-color: #AAA;\n",
              "      --disabled-bg-color: #DDD;\n",
              "  }\n",
              "\n",
              "  [theme=dark] .colab-df-quickchart {\n",
              "      --bg-color: #3B4455;\n",
              "      --fill-color: #D2E3FC;\n",
              "      --hover-bg-color: #434B5C;\n",
              "      --hover-fill-color: #FFFFFF;\n",
              "      --disabled-bg-color: #3B4455;\n",
              "      --disabled-fill-color: #666;\n",
              "  }\n",
              "\n",
              "  .colab-df-quickchart {\n",
              "    background-color: var(--bg-color);\n",
              "    border: none;\n",
              "    border-radius: 50%;\n",
              "    cursor: pointer;\n",
              "    display: none;\n",
              "    fill: var(--fill-color);\n",
              "    height: 32px;\n",
              "    padding: 0;\n",
              "    width: 32px;\n",
              "  }\n",
              "\n",
              "  .colab-df-quickchart:hover {\n",
              "    background-color: var(--hover-bg-color);\n",
              "    box-shadow: 0 1px 2px rgba(60, 64, 67, 0.3), 0 1px 3px 1px rgba(60, 64, 67, 0.15);\n",
              "    fill: var(--button-hover-fill-color);\n",
              "  }\n",
              "\n",
              "  .colab-df-quickchart-complete:disabled,\n",
              "  .colab-df-quickchart-complete:disabled:hover {\n",
              "    background-color: var(--disabled-bg-color);\n",
              "    fill: var(--disabled-fill-color);\n",
              "    box-shadow: none;\n",
              "  }\n",
              "\n",
              "  .colab-df-spinner {\n",
              "    border: 2px solid var(--fill-color);\n",
              "    border-color: transparent;\n",
              "    border-bottom-color: var(--fill-color);\n",
              "    animation:\n",
              "      spin 1s steps(1) infinite;\n",
              "  }\n",
              "\n",
              "  @keyframes spin {\n",
              "    0% {\n",
              "      border-color: transparent;\n",
              "      border-bottom-color: var(--fill-color);\n",
              "      border-left-color: var(--fill-color);\n",
              "    }\n",
              "    20% {\n",
              "      border-color: transparent;\n",
              "      border-left-color: var(--fill-color);\n",
              "      border-top-color: var(--fill-color);\n",
              "    }\n",
              "    30% {\n",
              "      border-color: transparent;\n",
              "      border-left-color: var(--fill-color);\n",
              "      border-top-color: var(--fill-color);\n",
              "      border-right-color: var(--fill-color);\n",
              "    }\n",
              "    40% {\n",
              "      border-color: transparent;\n",
              "      border-right-color: var(--fill-color);\n",
              "      border-top-color: var(--fill-color);\n",
              "    }\n",
              "    60% {\n",
              "      border-color: transparent;\n",
              "      border-right-color: var(--fill-color);\n",
              "    }\n",
              "    80% {\n",
              "      border-color: transparent;\n",
              "      border-right-color: var(--fill-color);\n",
              "      border-bottom-color: var(--fill-color);\n",
              "    }\n",
              "    90% {\n",
              "      border-color: transparent;\n",
              "      border-bottom-color: var(--fill-color);\n",
              "    }\n",
              "  }\n",
              "</style>\n",
              "\n",
              "  <script>\n",
              "    async function quickchart(key) {\n",
              "      const quickchartButtonEl =\n",
              "        document.querySelector('#' + key + ' button');\n",
              "      quickchartButtonEl.disabled = true;  // To prevent multiple clicks.\n",
              "      quickchartButtonEl.classList.add('colab-df-spinner');\n",
              "      try {\n",
              "        const charts = await google.colab.kernel.invokeFunction(\n",
              "            'suggestCharts', [key], {});\n",
              "      } catch (error) {\n",
              "        console.error('Error during call to suggestCharts:', error);\n",
              "      }\n",
              "      quickchartButtonEl.classList.remove('colab-df-spinner');\n",
              "      quickchartButtonEl.classList.add('colab-df-quickchart-complete');\n",
              "    }\n",
              "    (() => {\n",
              "      let quickchartButtonEl =\n",
              "        document.querySelector('#df-adf538a1-6fd0-43f8-90b7-9556b47209d2 button');\n",
              "      quickchartButtonEl.style.display =\n",
              "        google.colab.kernel.accessAllowed ? 'block' : 'none';\n",
              "    })();\n",
              "  </script>\n",
              "</div>\n",
              "\n",
              "    </div>\n",
              "  </div>\n"
            ],
            "application/vnd.google.colaboratory.intrinsic+json": {
              "type": "dataframe",
              "variable_name": "df"
            }
          },
          "metadata": {},
          "execution_count": 36
        }
      ]
    },
    {
      "cell_type": "code",
      "source": [
        "df = df.drop(['FILED_DATETIME','TAXPAYER_ID','FIRM_ID','CLIENT_ID','ROUTING_NUMBER1','DEPOSIT_ACCOUNT1','ROUTING_NUMBER2','DEPOSIT_ACCOUNT2','ROUTING_NUMBER3','DEPOSIT_ACCOUNT3','PTIN','IP_ADDRESS'],axis=1)"
      ],
      "metadata": {
        "id": "97ObFafvd25_"
      },
      "execution_count": null,
      "outputs": []
    },
    {
      "cell_type": "code",
      "source": [
        "df.head()"
      ],
      "metadata": {
        "colab": {
          "base_uri": "https://localhost:8080/",
          "height": 206
        },
        "id": "9Lpi03OQgvp4",
        "outputId": "77ebc69e-dcd5-439e-fb49-55a8a64737f7"
      },
      "execution_count": null,
      "outputs": [
        {
          "output_type": "execute_result",
          "data": {
            "text/plain": [
              "   Unnamed: 0  TAX_YEAR  REFUND  ZIPCODE  STATE_PLACEHOLDER  STATE_ATTACHED  \\\n",
              "0           0      2020    4206    33863                 47            True   \n",
              "1           1      2020    2276    23929                 30            True   \n",
              "2           2      2020    4373    56438                 17            True   \n",
              "3           3      2020    1339    37826                  6           False   \n",
              "4           4      2020    3388    23380                 50            True   \n",
              "\n",
              "   IS_SUSPICIOUS  \n",
              "0          False  \n",
              "1          False  \n",
              "2          False  \n",
              "3          False  \n",
              "4          False  "
            ],
            "text/html": [
              "\n",
              "  <div id=\"df-592a59d8-50ab-4def-a2bf-0b0f25bce057\" class=\"colab-df-container\">\n",
              "    <div>\n",
              "<style scoped>\n",
              "    .dataframe tbody tr th:only-of-type {\n",
              "        vertical-align: middle;\n",
              "    }\n",
              "\n",
              "    .dataframe tbody tr th {\n",
              "        vertical-align: top;\n",
              "    }\n",
              "\n",
              "    .dataframe thead th {\n",
              "        text-align: right;\n",
              "    }\n",
              "</style>\n",
              "<table border=\"1\" class=\"dataframe\">\n",
              "  <thead>\n",
              "    <tr style=\"text-align: right;\">\n",
              "      <th></th>\n",
              "      <th>Unnamed: 0</th>\n",
              "      <th>TAX_YEAR</th>\n",
              "      <th>REFUND</th>\n",
              "      <th>ZIPCODE</th>\n",
              "      <th>STATE_PLACEHOLDER</th>\n",
              "      <th>STATE_ATTACHED</th>\n",
              "      <th>IS_SUSPICIOUS</th>\n",
              "    </tr>\n",
              "  </thead>\n",
              "  <tbody>\n",
              "    <tr>\n",
              "      <th>0</th>\n",
              "      <td>0</td>\n",
              "      <td>2020</td>\n",
              "      <td>4206</td>\n",
              "      <td>33863</td>\n",
              "      <td>47</td>\n",
              "      <td>True</td>\n",
              "      <td>False</td>\n",
              "    </tr>\n",
              "    <tr>\n",
              "      <th>1</th>\n",
              "      <td>1</td>\n",
              "      <td>2020</td>\n",
              "      <td>2276</td>\n",
              "      <td>23929</td>\n",
              "      <td>30</td>\n",
              "      <td>True</td>\n",
              "      <td>False</td>\n",
              "    </tr>\n",
              "    <tr>\n",
              "      <th>2</th>\n",
              "      <td>2</td>\n",
              "      <td>2020</td>\n",
              "      <td>4373</td>\n",
              "      <td>56438</td>\n",
              "      <td>17</td>\n",
              "      <td>True</td>\n",
              "      <td>False</td>\n",
              "    </tr>\n",
              "    <tr>\n",
              "      <th>3</th>\n",
              "      <td>3</td>\n",
              "      <td>2020</td>\n",
              "      <td>1339</td>\n",
              "      <td>37826</td>\n",
              "      <td>6</td>\n",
              "      <td>False</td>\n",
              "      <td>False</td>\n",
              "    </tr>\n",
              "    <tr>\n",
              "      <th>4</th>\n",
              "      <td>4</td>\n",
              "      <td>2020</td>\n",
              "      <td>3388</td>\n",
              "      <td>23380</td>\n",
              "      <td>50</td>\n",
              "      <td>True</td>\n",
              "      <td>False</td>\n",
              "    </tr>\n",
              "  </tbody>\n",
              "</table>\n",
              "</div>\n",
              "    <div class=\"colab-df-buttons\">\n",
              "\n",
              "  <div class=\"colab-df-container\">\n",
              "    <button class=\"colab-df-convert\" onclick=\"convertToInteractive('df-592a59d8-50ab-4def-a2bf-0b0f25bce057')\"\n",
              "            title=\"Convert this dataframe to an interactive table.\"\n",
              "            style=\"display:none;\">\n",
              "\n",
              "  <svg xmlns=\"http://www.w3.org/2000/svg\" height=\"24px\" viewBox=\"0 -960 960 960\">\n",
              "    <path d=\"M120-120v-720h720v720H120Zm60-500h600v-160H180v160Zm220 220h160v-160H400v160Zm0 220h160v-160H400v160ZM180-400h160v-160H180v160Zm440 0h160v-160H620v160ZM180-180h160v-160H180v160Zm440 0h160v-160H620v160Z\"/>\n",
              "  </svg>\n",
              "    </button>\n",
              "\n",
              "  <style>\n",
              "    .colab-df-container {\n",
              "      display:flex;\n",
              "      gap: 12px;\n",
              "    }\n",
              "\n",
              "    .colab-df-convert {\n",
              "      background-color: #E8F0FE;\n",
              "      border: none;\n",
              "      border-radius: 50%;\n",
              "      cursor: pointer;\n",
              "      display: none;\n",
              "      fill: #1967D2;\n",
              "      height: 32px;\n",
              "      padding: 0 0 0 0;\n",
              "      width: 32px;\n",
              "    }\n",
              "\n",
              "    .colab-df-convert:hover {\n",
              "      background-color: #E2EBFA;\n",
              "      box-shadow: 0px 1px 2px rgba(60, 64, 67, 0.3), 0px 1px 3px 1px rgba(60, 64, 67, 0.15);\n",
              "      fill: #174EA6;\n",
              "    }\n",
              "\n",
              "    .colab-df-buttons div {\n",
              "      margin-bottom: 4px;\n",
              "    }\n",
              "\n",
              "    [theme=dark] .colab-df-convert {\n",
              "      background-color: #3B4455;\n",
              "      fill: #D2E3FC;\n",
              "    }\n",
              "\n",
              "    [theme=dark] .colab-df-convert:hover {\n",
              "      background-color: #434B5C;\n",
              "      box-shadow: 0px 1px 3px 1px rgba(0, 0, 0, 0.15);\n",
              "      filter: drop-shadow(0px 1px 2px rgba(0, 0, 0, 0.3));\n",
              "      fill: #FFFFFF;\n",
              "    }\n",
              "  </style>\n",
              "\n",
              "    <script>\n",
              "      const buttonEl =\n",
              "        document.querySelector('#df-592a59d8-50ab-4def-a2bf-0b0f25bce057 button.colab-df-convert');\n",
              "      buttonEl.style.display =\n",
              "        google.colab.kernel.accessAllowed ? 'block' : 'none';\n",
              "\n",
              "      async function convertToInteractive(key) {\n",
              "        const element = document.querySelector('#df-592a59d8-50ab-4def-a2bf-0b0f25bce057');\n",
              "        const dataTable =\n",
              "          await google.colab.kernel.invokeFunction('convertToInteractive',\n",
              "                                                    [key], {});\n",
              "        if (!dataTable) return;\n",
              "\n",
              "        const docLinkHtml = 'Like what you see? Visit the ' +\n",
              "          '<a target=\"_blank\" href=https://colab.research.google.com/notebooks/data_table.ipynb>data table notebook</a>'\n",
              "          + ' to learn more about interactive tables.';\n",
              "        element.innerHTML = '';\n",
              "        dataTable['output_type'] = 'display_data';\n",
              "        await google.colab.output.renderOutput(dataTable, element);\n",
              "        const docLink = document.createElement('div');\n",
              "        docLink.innerHTML = docLinkHtml;\n",
              "        element.appendChild(docLink);\n",
              "      }\n",
              "    </script>\n",
              "  </div>\n",
              "\n",
              "\n",
              "<div id=\"df-32476644-06fa-4522-9685-9c3b5fc38904\">\n",
              "  <button class=\"colab-df-quickchart\" onclick=\"quickchart('df-32476644-06fa-4522-9685-9c3b5fc38904')\"\n",
              "            title=\"Suggest charts\"\n",
              "            style=\"display:none;\">\n",
              "\n",
              "<svg xmlns=\"http://www.w3.org/2000/svg\" height=\"24px\"viewBox=\"0 0 24 24\"\n",
              "     width=\"24px\">\n",
              "    <g>\n",
              "        <path d=\"M19 3H5c-1.1 0-2 .9-2 2v14c0 1.1.9 2 2 2h14c1.1 0 2-.9 2-2V5c0-1.1-.9-2-2-2zM9 17H7v-7h2v7zm4 0h-2V7h2v10zm4 0h-2v-4h2v4z\"/>\n",
              "    </g>\n",
              "</svg>\n",
              "  </button>\n",
              "\n",
              "<style>\n",
              "  .colab-df-quickchart {\n",
              "      --bg-color: #E8F0FE;\n",
              "      --fill-color: #1967D2;\n",
              "      --hover-bg-color: #E2EBFA;\n",
              "      --hover-fill-color: #174EA6;\n",
              "      --disabled-fill-color: #AAA;\n",
              "      --disabled-bg-color: #DDD;\n",
              "  }\n",
              "\n",
              "  [theme=dark] .colab-df-quickchart {\n",
              "      --bg-color: #3B4455;\n",
              "      --fill-color: #D2E3FC;\n",
              "      --hover-bg-color: #434B5C;\n",
              "      --hover-fill-color: #FFFFFF;\n",
              "      --disabled-bg-color: #3B4455;\n",
              "      --disabled-fill-color: #666;\n",
              "  }\n",
              "\n",
              "  .colab-df-quickchart {\n",
              "    background-color: var(--bg-color);\n",
              "    border: none;\n",
              "    border-radius: 50%;\n",
              "    cursor: pointer;\n",
              "    display: none;\n",
              "    fill: var(--fill-color);\n",
              "    height: 32px;\n",
              "    padding: 0;\n",
              "    width: 32px;\n",
              "  }\n",
              "\n",
              "  .colab-df-quickchart:hover {\n",
              "    background-color: var(--hover-bg-color);\n",
              "    box-shadow: 0 1px 2px rgba(60, 64, 67, 0.3), 0 1px 3px 1px rgba(60, 64, 67, 0.15);\n",
              "    fill: var(--button-hover-fill-color);\n",
              "  }\n",
              "\n",
              "  .colab-df-quickchart-complete:disabled,\n",
              "  .colab-df-quickchart-complete:disabled:hover {\n",
              "    background-color: var(--disabled-bg-color);\n",
              "    fill: var(--disabled-fill-color);\n",
              "    box-shadow: none;\n",
              "  }\n",
              "\n",
              "  .colab-df-spinner {\n",
              "    border: 2px solid var(--fill-color);\n",
              "    border-color: transparent;\n",
              "    border-bottom-color: var(--fill-color);\n",
              "    animation:\n",
              "      spin 1s steps(1) infinite;\n",
              "  }\n",
              "\n",
              "  @keyframes spin {\n",
              "    0% {\n",
              "      border-color: transparent;\n",
              "      border-bottom-color: var(--fill-color);\n",
              "      border-left-color: var(--fill-color);\n",
              "    }\n",
              "    20% {\n",
              "      border-color: transparent;\n",
              "      border-left-color: var(--fill-color);\n",
              "      border-top-color: var(--fill-color);\n",
              "    }\n",
              "    30% {\n",
              "      border-color: transparent;\n",
              "      border-left-color: var(--fill-color);\n",
              "      border-top-color: var(--fill-color);\n",
              "      border-right-color: var(--fill-color);\n",
              "    }\n",
              "    40% {\n",
              "      border-color: transparent;\n",
              "      border-right-color: var(--fill-color);\n",
              "      border-top-color: var(--fill-color);\n",
              "    }\n",
              "    60% {\n",
              "      border-color: transparent;\n",
              "      border-right-color: var(--fill-color);\n",
              "    }\n",
              "    80% {\n",
              "      border-color: transparent;\n",
              "      border-right-color: var(--fill-color);\n",
              "      border-bottom-color: var(--fill-color);\n",
              "    }\n",
              "    90% {\n",
              "      border-color: transparent;\n",
              "      border-bottom-color: var(--fill-color);\n",
              "    }\n",
              "  }\n",
              "</style>\n",
              "\n",
              "  <script>\n",
              "    async function quickchart(key) {\n",
              "      const quickchartButtonEl =\n",
              "        document.querySelector('#' + key + ' button');\n",
              "      quickchartButtonEl.disabled = true;  // To prevent multiple clicks.\n",
              "      quickchartButtonEl.classList.add('colab-df-spinner');\n",
              "      try {\n",
              "        const charts = await google.colab.kernel.invokeFunction(\n",
              "            'suggestCharts', [key], {});\n",
              "      } catch (error) {\n",
              "        console.error('Error during call to suggestCharts:', error);\n",
              "      }\n",
              "      quickchartButtonEl.classList.remove('colab-df-spinner');\n",
              "      quickchartButtonEl.classList.add('colab-df-quickchart-complete');\n",
              "    }\n",
              "    (() => {\n",
              "      let quickchartButtonEl =\n",
              "        document.querySelector('#df-32476644-06fa-4522-9685-9c3b5fc38904 button');\n",
              "      quickchartButtonEl.style.display =\n",
              "        google.colab.kernel.accessAllowed ? 'block' : 'none';\n",
              "    })();\n",
              "  </script>\n",
              "</div>\n",
              "\n",
              "    </div>\n",
              "  </div>\n"
            ],
            "application/vnd.google.colaboratory.intrinsic+json": {
              "type": "dataframe",
              "variable_name": "df"
            }
          },
          "metadata": {},
          "execution_count": 38
        }
      ]
    },
    {
      "cell_type": "code",
      "source": [
        "# PREPROCESS DATA\n",
        "# Normalize REFUND column\n",
        "df_temp = df.drop(['TAX_YEAR', 'ZIPCODE', 'STATE_PLACEHOLDER', 'STATE_ATTACHED', 'IS_SUSPICIOUS'], axis=1)\n",
        "df = df.drop(['REFUND'], axis=1)\n",
        "df_norm = (df_temp - df_temp.min()) / (df_temp.max() - df_temp.min())\n",
        "df = pd.concat([df, df_norm], axis=1)\n",
        "\n",
        "print('REFUND')\n",
        "print(df.head())\n",
        "\n",
        "# One hot encode TAX_YEAR/ZIPCODE/STATE_PLACEHOLDER columns\n",
        "tax_years_ohe = pd.get_dummies(df.TAX_YEAR)\n",
        "# zipcode_ohe = pd.get_dummies(df.ZIPCODE)\n",
        "state_placeholder_ohe = pd.get_dummies(df.STATE_PLACEHOLDER)\n",
        "\n",
        "df = pd.concat([df, tax_years_ohe], axis=1)\n",
        "# df = pd.concat([df, zipcode_ohe], axis=1)\n",
        "df = pd.concat([df, state_placeholder_ohe], axis=1)\n",
        "\n",
        "df = df.drop(['TAX_YEAR', 'ZIPCODE', 'STATE_PLACEHOLDER'], axis=1)\n",
        "\n",
        "print('ONE HOT ENCODE')\n",
        "print(df.head())"
      ],
      "metadata": {
        "colab": {
          "base_uri": "https://localhost:8080/"
        },
        "id": "3Ulj-QCgBU5t",
        "outputId": "37969435-5630-491a-e337-2c05c812f97e"
      },
      "execution_count": null,
      "outputs": [
        {
          "output_type": "stream",
          "name": "stdout",
          "text": [
            "REFUND\n",
            "   Unnamed: 0  TAX_YEAR  ZIPCODE  STATE_PLACEHOLDER  STATE_ATTACHED  \\\n",
            "0           0      2020    33863                 47            True   \n",
            "1           1      2020    23929                 30            True   \n",
            "2           2      2020    56438                 17            True   \n",
            "3           3      2020    37826                  6           False   \n",
            "4           4      2020    23380                 50            True   \n",
            "\n",
            "   IS_SUSPICIOUS  Unnamed: 0    REFUND  \n",
            "0          False    0.000000  0.222304  \n",
            "1          False    0.000005  0.120296  \n",
            "2          False    0.000010  0.231131  \n",
            "3          False    0.000016  0.070772  \n",
            "4          False    0.000021  0.179070  \n",
            "ONE HOT ENCODE\n",
            "   Unnamed: 0  STATE_ATTACHED  IS_SUSPICIOUS  Unnamed: 0    REFUND  2020  \\\n",
            "0           0            True          False    0.000000  0.222304  True   \n",
            "1           1            True          False    0.000005  0.120296  True   \n",
            "2           2            True          False    0.000010  0.231131  True   \n",
            "3           3           False          False    0.000016  0.070772  True   \n",
            "4           4            True          False    0.000021  0.179070  True   \n",
            "\n",
            "    2021   2022      0      1  ...     41     42     43     44     45     46  \\\n",
            "0  False  False  False  False  ...  False  False  False  False  False  False   \n",
            "1  False  False  False  False  ...  False  False  False  False  False  False   \n",
            "2  False  False  False  False  ...  False  False  False  False  False  False   \n",
            "3  False  False  False  False  ...  False  False  False  False  False  False   \n",
            "4  False  False  False  False  ...  False  False  False  False  False  False   \n",
            "\n",
            "      47     48     49     50  \n",
            "0   True  False  False  False  \n",
            "1  False  False  False  False  \n",
            "2  False  False  False  False  \n",
            "3  False  False  False  False  \n",
            "4  False  False  False   True  \n",
            "\n",
            "[5 rows x 59 columns]\n"
          ]
        }
      ]
    },
    {
      "cell_type": "code",
      "source": [
        "X = df.drop('IS_SUSPICIOUS', axis=1)\n",
        "y = df['IS_SUSPICIOUS']"
      ],
      "metadata": {
        "id": "OPYjQeC3d6uH"
      },
      "execution_count": null,
      "outputs": []
    },
    {
      "cell_type": "code",
      "source": [
        "from sklearn.model_selection import train_test_split\n",
        "X_train, X_test, y_train, y_test = train_test_split(X, y, stratify=y, test_size = 0.3, random_state = 42)"
      ],
      "metadata": {
        "id": "hRXU5i1JequN"
      },
      "execution_count": null,
      "outputs": []
    },
    {
      "cell_type": "code",
      "source": [
        "from sklearn.preprocessing import StandardScaler\n",
        "\n",
        "# Creating function for scaling\n",
        "def Standard_Scaler (df, col_names):\n",
        "    features = df[col_names]\n",
        "    scaler = StandardScaler().fit(features.values)\n",
        "    features = scaler.transform(features.values)\n",
        "    df[col_names] = features\n",
        "\n",
        "    return df"
      ],
      "metadata": {
        "id": "CvWr6T_Ve5jt"
      },
      "execution_count": null,
      "outputs": []
    },
    {
      "cell_type": "code",
      "source": [
        "col_names = ['REFUND']\n",
        "X_train = Standard_Scaler (X_train, col_names)\n",
        "X_test = Standard_Scaler (X_test, col_names)"
      ],
      "metadata": {
        "id": "TwKVVfNWfBo4"
      },
      "execution_count": null,
      "outputs": []
    },
    {
      "cell_type": "code",
      "source": [
        "from sklearn.model_selection import StratifiedKFold\n",
        "from sklearn.ensemble import RandomForestClassifier\n",
        "\n",
        "#We are going to ensure that we have the same splits of the data every time.\n",
        "#We can ensure this by creating a KFold object, kf, and passing cv=kf instead of the more common cv=5.\n",
        "\n",
        "kf = StratifiedKFold(n_splits=5, shuffle=False)"
      ],
      "metadata": {
        "id": "wIG0ESGefEOs"
      },
      "execution_count": null,
      "outputs": []
    },
    {
      "cell_type": "code",
      "source": [
        "rf = RandomForestClassifier(n_estimators=100, random_state=13)"
      ],
      "metadata": {
        "id": "9GbCyi-KfGZD"
      },
      "execution_count": null,
      "outputs": []
    },
    {
      "cell_type": "code",
      "source": [
        "score = cross_val_score(rf, X_train, y_train, cv=kf, scoring='recall')\n",
        "print(\"Cross Validation Recall scores are: {}\".format(score))\n",
        "print(\"Average Cross Validation Recall score: {}\".format(score.mean()))"
      ],
      "metadata": {
        "colab": {
          "base_uri": "https://localhost:8080/"
        },
        "id": "ZACdYXREfjhb",
        "outputId": "b2036ef1-9dcf-4ee1-944b-449c6da72c5f"
      },
      "execution_count": null,
      "outputs": [
        {
          "output_type": "stream",
          "name": "stdout",
          "text": [
            "Cross Validation Recall scores are: [0.5        0.51851852 0.65384615 0.61538462 0.53846154]\n",
            "Average Cross Validation Recall score: 0.5652421652421652\n"
          ]
        }
      ]
    },
    {
      "cell_type": "code",
      "source": [
        "# TAKES A LOT OF TIME _ WILL LEAVE IT RUNNING OVERNIGHT TONIGHT FOR GETTING THE BASE RESULT\n",
        "# from sklearn.model_selection import GridSearchCV\n",
        "\n",
        "# params = {\n",
        "#     'n_estimators': [50, 100, 200],\n",
        "#     'max_depth': [4, 6, 10, 12],\n",
        "#     'random_state': [13]\n",
        "# }\n",
        "\n",
        "# grid_rf = GridSearchCV(rf, param_grid=params, cv=kf,\n",
        "#                           scoring='recall').fit(X_train, y_train)\n",
        "# print('Best parameters:', grid_rf.best_params_)\n",
        "# print('Best score:', grid_rf.best_score_)"
      ],
      "metadata": {
        "id": "V4lclvBVhPwl"
      },
      "execution_count": null,
      "outputs": []
    },
    {
      "cell_type": "code",
      "source": [
        "rf = RandomForestClassifier(n_estimators=100, max_depth=12, random_state=13)\n",
        "# Compute cross-validation recall scores\n",
        "score = cross_val_score(rf, X_train, y_train, cv=kf, scoring='recall')\n",
        "print(\"Cross Validation Recall scores are: {}\".format(score))\n",
        "print(\"Average Cross Validation Recall score: {}\".format(score.mean()))"
      ],
      "metadata": {
        "colab": {
          "base_uri": "https://localhost:8080/"
        },
        "id": "3p4z3W5GkPM8",
        "outputId": "91cf419a-b308-4a88-a505-37ed315e5dda"
      },
      "execution_count": null,
      "outputs": [
        {
          "output_type": "stream",
          "name": "stdout",
          "text": [
            "Cross Validation Recall scores are: [0.5        0.48148148 0.65384615 0.61538462 0.5       ]\n",
            "Average Cross Validation Recall score: 0.5501424501424501\n"
          ]
        }
      ]
    },
    {
      "cell_type": "code",
      "source": [
        "# Fit the model on the entire training data\n",
        "rf.fit(X_train, y_train)\n",
        "\n",
        "# Make predictions on the test data\n",
        "y_pred = rf.predict(X_test)\n",
        "\n",
        "# Compute the confusion matrix\n",
        "conf_matrix = confusion_matrix(y_test, y_pred)\n",
        "\n",
        "# Print the confusion matrix\n",
        "print(\"Confusion Matrix:\")\n",
        "print(conf_matrix)"
      ],
      "metadata": {
        "colab": {
          "base_uri": "https://localhost:8080/"
        },
        "id": "OpGHH_CGlezg",
        "outputId": "88078fb2-6f02-4de6-8a3e-4a0b540b7787"
      },
      "execution_count": null,
      "outputs": [
        {
          "output_type": "stream",
          "name": "stdout",
          "text": [
            "Confusion Matrix:\n",
            "[[57980     1]\n",
            " [   27    29]]\n"
          ]
        }
      ]
    },
    {
      "cell_type": "code",
      "source": [
        "import zipcodes"
      ],
      "metadata": {
        "id": "SdZ3Xa4GmLVH"
      },
      "execution_count": null,
      "outputs": []
    },
    {
      "cell_type": "code",
      "source": [
        "pip install zipcodes"
      ],
      "metadata": {
        "colab": {
          "base_uri": "https://localhost:8080/"
        },
        "id": "oiTh2fMcob4a",
        "outputId": "13bb9e44-c7f0-4512-ecd0-0b8f9e25d826"
      },
      "execution_count": null,
      "outputs": [
        {
          "output_type": "stream",
          "name": "stdout",
          "text": [
            "Collecting zipcodes\n",
            "  Downloading zipcodes-1.2.0-py2.py3-none-any.whl (719 kB)\n",
            "\u001b[2K     \u001b[90m━━━━━━━━━━━━━━━━━━━━━━━━━━━━━━━━━━━━━━━━\u001b[0m \u001b[32m719.6/719.6 kB\u001b[0m \u001b[31m5.1 MB/s\u001b[0m eta \u001b[36m0:00:00\u001b[0m\n",
            "\u001b[?25hInstalling collected packages: zipcodes\n",
            "Successfully installed zipcodes-1.2.0\n"
          ]
        }
      ]
    },
    {
      "cell_type": "code",
      "source": [
        "zipcodes.is_real('43703')"
      ],
      "metadata": {
        "colab": {
          "base_uri": "https://localhost:8080/"
        },
        "id": "c7Emk9YuodG2",
        "outputId": "33e79a40-0401-403f-a028-2fc0ecb2f907"
      },
      "execution_count": null,
      "outputs": [
        {
          "output_type": "execute_result",
          "data": {
            "text/plain": [
              "False"
            ]
          },
          "metadata": {},
          "execution_count": 91
        }
      ]
    },
    {
      "cell_type": "code",
      "source": [
        "y_train.value_counts()"
      ],
      "metadata": {
        "colab": {
          "base_uri": "https://localhost:8080/"
        },
        "id": "J7AjEIsgoh5d",
        "outputId": "53aec70c-0d16-4a03-cff0-fa4e05a65b9a"
      },
      "execution_count": null,
      "outputs": [
        {
          "output_type": "execute_result",
          "data": {
            "text/plain": [
              "IS_SUSPICIOUS\n",
              "False    135286\n",
              "True        131\n",
              "Name: count, dtype: int64"
            ]
          },
          "metadata": {},
          "execution_count": 92
        }
      ]
    },
    {
      "cell_type": "markdown",
      "source": [
        "# Random Oversampling"
      ],
      "metadata": {
        "id": "MEgjqJEgaNHI"
      }
    },
    {
      "cell_type": "code",
      "source": [
        "from imblearn.over_sampling import RandomOverSampler\n",
        "# define oversampling strategy\n",
        "ros = RandomOverSampler(random_state=42)"
      ],
      "metadata": {
        "id": "NB_rTt_EpJG5"
      },
      "execution_count": null,
      "outputs": []
    },
    {
      "cell_type": "code",
      "source": [
        "# fit and apply the transform\n",
        "X_over, y_over = ros.fit_resample(X_train, y_train)"
      ],
      "metadata": {
        "id": "3OnbVZkPqwuX"
      },
      "execution_count": null,
      "outputs": []
    },
    {
      "cell_type": "code",
      "source": [
        "print('Genuine:', y_over.value_counts()[0], '/', round(y_over.value_counts()[0]/len(y_over) * 100,2), '% of the dataset')\n",
        "print('Frauds:', y_over.value_counts()[1], '/',round(y_over.value_counts()[1]/len(y_over) * 100,2), '% of the dataset')"
      ],
      "metadata": {
        "colab": {
          "base_uri": "https://localhost:8080/"
        },
        "id": "zTqiv3bjawuA",
        "outputId": "fb60534b-4120-4479-cf13-a122d3a21033"
      },
      "execution_count": null,
      "outputs": [
        {
          "output_type": "stream",
          "name": "stdout",
          "text": [
            "Genuine: 135286 / 50.0 % of the dataset\n",
            "Frauds: 135286 / 50.0 % of the dataset\n"
          ]
        }
      ]
    },
    {
      "cell_type": "code",
      "source": [
        "from imblearn.pipeline import Pipeline, make_pipeline\n",
        "from sklearn.ensemble import RandomForestClassifier\n",
        "random_overs_pipeline = make_pipeline(RandomOverSampler(random_state=42),\n",
        "                              RandomForestClassifier(n_estimators=100, random_state=13))"
      ],
      "metadata": {
        "id": "bPPFtNe3ay9R"
      },
      "execution_count": null,
      "outputs": []
    },
    {
      "cell_type": "code",
      "source": [
        "from sklearn.model_selection import StratifiedKFold\n",
        "from sklearn.ensemble import RandomForestClassifier\n",
        "\n",
        "#We are going to ensure that we have the same splits of the data every time.\n",
        "#We can ensure this by creating a KFold object, kf, and passing cv=kf instead of the more common cv=5.\n",
        "\n",
        "kf = StratifiedKFold(n_splits=5, shuffle=False)\n",
        "score2 = cross_val_score(random_overs_pipeline, X_train, y_train, scoring='recall', cv=kf)\n",
        "print(\"Cross Validation Recall Scores are: {}\".format(score2))\n",
        "print(\"Average Cross Validation Recall score: {}\".format(score2.mean()))"
      ],
      "metadata": {
        "colab": {
          "base_uri": "https://localhost:8080/"
        },
        "id": "L6eSuQqcbirA",
        "outputId": "c1f1eeb1-9b26-4325-ecd1-0b53ff5bf367"
      },
      "execution_count": null,
      "outputs": [
        {
          "output_type": "stream",
          "name": "stdout",
          "text": [
            "Cross Validation Recall Scores are: [0.38461538 0.48148148 0.73076923 0.61538462 0.42307692]\n",
            "Average Cross Validation Recall score: 0.527065527065527\n"
          ]
        }
      ]
    },
    {
      "cell_type": "code",
      "source": [
        "# Fit the model on the entire training data\n",
        "random_overs_pipeline.fit(X_train, y_train)\n",
        "\n",
        "# Make predictions on the test data\n",
        "y_pred = random_overs_pipeline.predict(X_test)\n",
        "\n",
        "# Compute the confusion matrix\n",
        "conf_matrix = confusion_matrix(y_test, y_pred)\n",
        "\n",
        "# Print the confusion matrix\n",
        "print(\"Confusion Matrix:\")\n",
        "print(conf_matrix)"
      ],
      "metadata": {
        "colab": {
          "base_uri": "https://localhost:8080/"
        },
        "id": "DCB1yjI0chmH",
        "outputId": "6ab0432c-99db-4938-fe26-cfec005c0aa5"
      },
      "execution_count": null,
      "outputs": [
        {
          "output_type": "stream",
          "name": "stdout",
          "text": [
            "Confusion Matrix:\n",
            "[[57977     4]\n",
            " [   28    28]]\n"
          ]
        }
      ]
    },
    {
      "cell_type": "markdown",
      "source": [
        "## RUS : Random Undersampling"
      ],
      "metadata": {
        "id": "VbvWuLvxc68Z"
      }
    },
    {
      "cell_type": "code",
      "source": [
        "from imblearn.under_sampling import RandomUnderSampler\n",
        "# define oversampling strategy\n",
        "rus = RandomUnderSampler(random_state=42)"
      ],
      "metadata": {
        "id": "okf-VE91c49P"
      },
      "execution_count": null,
      "outputs": []
    },
    {
      "cell_type": "code",
      "source": [
        "# fit and apply the transform\n",
        "X_under, y_under = rus.fit_resample(X_train, y_train)"
      ],
      "metadata": {
        "id": "T487jb-4c-o4"
      },
      "execution_count": null,
      "outputs": []
    },
    {
      "cell_type": "code",
      "source": [
        "print('Genuine:', y_under.value_counts()[0], '/', round(y_under.value_counts()[0]/len(y_under) * 100,2), '% of the dataset')\n",
        "print('Frauds:', y_under.value_counts()[1], '/',round(y_under.value_counts()[1]/len(y_under) * 100,2), '% of the dataset')"
      ],
      "metadata": {
        "colab": {
          "base_uri": "https://localhost:8080/"
        },
        "id": "cFvXOXYddBNY",
        "outputId": "617e64ac-9a8b-4208-8b28-cf449c9d4624"
      },
      "execution_count": null,
      "outputs": [
        {
          "output_type": "stream",
          "name": "stdout",
          "text": [
            "Genuine: 131 / 50.0 % of the dataset\n",
            "Frauds: 131 / 50.0 % of the dataset\n"
          ]
        }
      ]
    },
    {
      "cell_type": "markdown",
      "source": [
        "# SMOTE"
      ],
      "metadata": {
        "id": "7BbzggE-dEh_"
      }
    },
    {
      "cell_type": "code",
      "source": [
        "from imblearn.over_sampling import SMOTE\n",
        "\n",
        "smote_pipeline = make_pipeline(SMOTE(random_state=42),\n",
        "                              RandomForestClassifier(n_estimators=100, random_state=13))"
      ],
      "metadata": {
        "id": "NwPBkvx6dPr3"
      },
      "execution_count": null,
      "outputs": []
    },
    {
      "cell_type": "code",
      "source": [
        "score3 = cross_val_score(smote_pipeline, X_train, y_train, scoring='recall', cv=kf)\n",
        "print(\"Cross Validation Recall Scores are: {}\".format(score3))\n",
        "print(\"Average Cross Validation Recall score: {}\".format(score3.mean()))"
      ],
      "metadata": {
        "colab": {
          "base_uri": "https://localhost:8080/"
        },
        "id": "ytAR-EmhdRs4",
        "outputId": "63f3b957-8c5a-49c2-97cd-b3adf536672b"
      },
      "execution_count": null,
      "outputs": [
        {
          "output_type": "stream",
          "name": "stdout",
          "text": [
            "Cross Validation Recall Scores are: [0.57692308 0.48148148 0.88461538 0.73076923 0.53846154]\n",
            "Average Cross Validation Recall score: 0.6424501424501423\n"
          ]
        }
      ]
    },
    {
      "cell_type": "code",
      "source": [
        "# Fit the model on the entire training data\n",
        "smote_pipeline.fit(X_train, y_train)\n",
        "\n",
        "# Make predictions on the test data\n",
        "y_pred = smote_pipeline.predict(X_test)\n",
        "\n",
        "# Compute the confusion matrix\n",
        "conf_matrix = confusion_matrix(y_test, y_pred)\n",
        "\n",
        "# Print the confusion matrix\n",
        "print(\"Confusion Matrix:\")\n",
        "print(conf_matrix)"
      ],
      "metadata": {
        "colab": {
          "base_uri": "https://localhost:8080/"
        },
        "id": "7QFkqR28fPoO",
        "outputId": "bb799059-6469-42f1-b5f0-47b10b1c26f1"
      },
      "execution_count": null,
      "outputs": [
        {
          "output_type": "stream",
          "name": "stdout",
          "text": [
            "Confusion Matrix:\n",
            "[[57925    56]\n",
            " [   22    34]]\n"
          ]
        }
      ]
    },
    {
      "cell_type": "markdown",
      "source": [
        "# Custom SMOTE"
      ],
      "metadata": {
        "id": "LgssdAG3gqHt"
      }
    },
    {
      "cell_type": "code",
      "source": [
        "from imblearn.over_sampling import SMOTE\n",
        "sm = SMOTE(random_state=42)\n",
        "X_train_oversampled, y_train_oversampled = sm.fit_resample(X_train, y_train)\n"
      ],
      "metadata": {
        "id": "AlDK3jY_gpIe"
      },
      "execution_count": null,
      "outputs": []
    },
    {
      "cell_type": "code",
      "source": [
        "# prompt: perform PCA on X_train_oversampled and denote them in a two dimension coordinate\n",
        "\n",
        "from sklearn.decomposition import PCA\n",
        "\n",
        "pca = PCA(n_components=2)\n",
        "X_train_oversampled_pca = pca.fit_transform(X_train_oversampled)\n"
      ],
      "metadata": {
        "id": "cm5VMn_5iPMk"
      },
      "execution_count": null,
      "outputs": []
    },
    {
      "cell_type": "code",
      "source": [
        "# prompt: can you X_train_oversampled_pca standardize it to a appropriate scale\n",
        "\n",
        "from sklearn.preprocessing import StandardScaler\n",
        "\n",
        "scaler = StandardScaler()\n",
        "X_train_oversampled_pca_scaled = scaler.fit_transform(X_train_oversampled_pca)\n"
      ],
      "metadata": {
        "id": "OhlXfLyMj4zD"
      },
      "execution_count": null,
      "outputs": []
    },
    {
      "cell_type": "code",
      "source": [
        "X_train_oversampled_pca_scaled[:2]"
      ],
      "metadata": {
        "colab": {
          "base_uri": "https://localhost:8080/"
        },
        "id": "Xz_ae0yUiDcV",
        "outputId": "bfd3b1d9-dc47-4cd8-f55f-5f189389e5a9"
      },
      "execution_count": null,
      "outputs": [
        {
          "output_type": "execute_result",
          "data": {
            "text/plain": [
              "array([[ 1.06422584, -1.46772283],\n",
              "       [-1.12534282, -1.00588017]])"
            ]
          },
          "metadata": {},
          "execution_count": 55
        }
      ]
    },
    {
      "cell_type": "code",
      "source": [
        "# prompt: plot X_train_oversampled_pca_scaled in a cartessian plan and color code according to y_train_oversampled\n",
        "\n",
        "import matplotlib.pyplot as plt\n",
        "\n",
        "plt.figure(figsize=(10, 8))\n",
        "\n",
        "plt.scatter(X_train_oversampled_pca_scaled[:, 0], X_train_oversampled_pca_scaled[:, 1], c=y_train_oversampled, cmap='viridis')\n",
        "plt.xlabel('PC1')\n",
        "plt.ylabel('PC2')\n",
        "plt.title('Scatter plot of PCA-transformed data, colored by class')\n",
        "plt.show()\n"
      ],
      "metadata": {
        "colab": {
          "base_uri": "https://localhost:8080/",
          "height": 718
        },
        "id": "bB36_3Lpihzk",
        "outputId": "c9d082e3-f741-4955-c65e-59a5fd948574"
      },
      "execution_count": null,
      "outputs": [
        {
          "output_type": "display_data",
          "data": {
            "text/plain": [
              "<Figure size 1000x800 with 1 Axes>"
            ],
            "image/png": "[encoded data removed]"
          },
          "metadata": {}
        }
      ]
    },
    {
      "cell_type": "code",
      "source": [
        "#Visualizing the original\n",
        "from sklearn.decomposition import PCA\n",
        "\n",
        "pca = PCA(n_components=2)\n",
        "X_train_pca = pca.fit_transform(X_train)\n",
        "\n",
        "from sklearn.preprocessing import StandardScaler\n",
        "\n",
        "scaler = StandardScaler()\n",
        "Xp\n",
        "# prompt: plot X_train_oversampled_pca_scaled in a cartessian plan and color code according to y_train_oversampled\n",
        "\n",
        "import matplotlib.pyplot as plt\n",
        "\n",
        "plt.figure(figsize=(10, 8))\n",
        "\n",
        "plt.scatter(X_train_pca_scaled[:, 0], X_train_pca_scaled[:, 1], c=y_train, cmap='viridis')\n",
        "plt.xlabel('PC1')\n",
        "plt.ylabel('PC2')\n",
        "plt.title('Scatter plot of PCA-transformed data, colored by class')\n",
        "plt.show()\n",
        "\n"
      ],
      "metadata": {
        "colab": {
          "base_uri": "https://localhost:8080/",
          "height": 718
        },
        "id": "fIlq8DNilXhT",
        "outputId": "c961b5b5-05a1-4e27-cc0e-9d47c41835b0"
      },
      "execution_count": null,
      "outputs": [
        {
          "output_type": "display_data",
          "data": {
            "text/plain": [
              "<Figure size 1000x800 with 1 Axes>"
            ],
            "image/png": "[encoded data removed]"
          },
          "metadata": {}
        }
      ]
    },
    {
      "cell_type": "markdown",
      "source": [
        "Simple linear NN to combine the outputs of the previous models.\n",
        "Make sure to use the correct \"input_count\" when calling the model."
      ],
      "metadata": {
        "id": "9QJsR05UsVci"
      }
    },
    {
      "cell_type": "code",
      "source": [
        "!pip install torch torchaudio torchvision torchtext torchdata"
      ],
      "metadata": {
        "id": "09b32mWzu0B-"
      },
      "execution_count": null,
      "outputs": []
    },
    {
      "cell_type": "code",
      "source": [
        "import torch\n",
        "import torch.nn as nn\n",
        "import torch.nn.functional as F"
      ],
      "metadata": {
        "id": "Lq7eSt5fuvLD"
      },
      "execution_count": null,
      "outputs": []
    },
    {
      "cell_type": "code",
      "source": [
        "class LinearModel(nn.Module):\n",
        "  def __init__(self, input_count, output_count):\n",
        "    super(model, self).__init__()\n",
        "    self.fc1 = nn.Linear(input_count, 10)\n",
        "    self.fc2 = nn.Linear(10, 4)\n",
        "    self.fc3 = nn.Linear(4, output_count)\n",
        "\n",
        "  def forward(self, features):\n",
        "    x = F.relu(self.fc1(features))\n",
        "    x = F.relu(self.fc2(x))\n",
        "    return torch.sigmoid(self.fc3(x))"
      ],
      "metadata": {
        "id": "Cxt5LjgmqwNh"
      },
      "execution_count": null,
      "outputs": []
    },
    {
      "cell_type": "code",
      "source": [
        "def count_predictions(outputs, labels):\n",
        "  pass"
      ],
      "metadata": {
        "id": "9Yyn9bAjxcXJ"
      },
      "execution_count": null,
      "outputs": []
    },
    {
      "cell_type": "code",
      "source": [
        "def evaluate():\n",
        "  pass"
      ],
      "metadata": {
        "id": "sdw3vmRgxmA9"
      },
      "execution_count": null,
      "outputs": []
    },
    {
      "cell_type": "code",
      "source": [
        "def main_nn():\n",
        "  input_count = 4\n",
        "  output_count = 1\n",
        "  epochs = 10\n",
        "  batch_size = 512\n",
        "  learning_rate = 0.0025\n",
        "\n",
        "  train_split = 0.7\n",
        "  valid_split = 1.0 - train_split\n",
        "\n",
        "  # Use CUDA if available\n",
        "  device = torch.device('cuda:0' if torch.cuda.is_available() else 'CPU')\n",
        "  print(f'Device: {'CUDA' if torch.cuda.is_available() else 'CPU'}')\n",
        "\n",
        "  net = LinearModel(input_count, output_count).to(device)\n",
        "  criterion = nn.MSELoss()\n",
        "  # criterion = nn.CrossEntropyLoss()\n",
        "  optimizer = torch.optim.SGD(net.parameters(), lr=learning_rate)\n",
        "\n",
        "  t_acc = []\n",
        "  t_loss = []\n",
        "  v_acc = []\n",
        "  v_loss = []\n",
        "\n",
        "  for e in range(0, epochs):\n",
        "    running_loss = 0.0\n",
        "    t_acc_temp = []\n",
        "\n",
        "    # Train\n",
        "    for i, data in enumerate(train_loader, 0):\n",
        "      inputs, labels = data\n",
        "      inputs = inputs.to(device)\n",
        "      labels = labels.to(device)\n",
        "\n",
        "      optimizer.zero_grad()\n",
        "\n",
        "      outputs = net(outputs)\n",
        "\n",
        "      loss = criterion(outputs.squeeze(), labels)\n",
        "      # loss = criterion(outputs, labels)\n",
        "\n",
        "      loss.backward()\n",
        "      optimizer.step()\n",
        "\n",
        "      t_acc_temp.append(count_predictions(outputs, labels))\n",
        "      running_loss += loss.item()\n",
        "\n",
        "    # Evaluate\n",
        "    v_loss_temp, v_acc_temp = evaluate(net, valid_loader, criterion)\n",
        "\n",
        "    v_loss.append(v_loss_temp)\n",
        "    v_acc.append(v_acc_temp)\n",
        "\n",
        "    t_loss.append(running_loss / (total_rows * train_split))\n",
        "    t_acc.append(sum(t_acc_temp) / len(t_acc_temp))\n",
        "\n",
        "  torch.save(net, 'linear_model.pt')"
      ],
      "metadata": {
        "id": "ojgsk-YjsfIM"
      },
      "execution_count": null,
      "outputs": []
    },
    {
      "cell_type": "code",
      "source": [
        "main_nn()"
      ],
      "metadata": {
        "id": "rxPE5j2Msqk0"
      },
      "execution_count": null,
      "outputs": []
    }
  ]
}